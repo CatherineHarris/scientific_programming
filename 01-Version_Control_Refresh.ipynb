{
 "cells": [
  {
   "cell_type": "markdown",
   "metadata": {},
   "source": [
    "# 01 Version Control Refresh"
   ]
  },
  {
   "cell_type": "markdown",
   "metadata": {},
   "source": [
    "### Why?\n",
    "* Allows you to keep a comprehensive record of all changes made during a project. This is very useful if you later make a change that breaks something as you will be able to track bugs down much faster!\n",
    "* Keeps a backup of files - this is useful if need to e.g. recreate some data (like a plot) that was made several months ago, as can easily 'rewind' code back to the state it was back then\n",
    "* Also allows you to make changes without worrying about breaking something (e.g. using branches)\n",
    "* If working in a group project, helps prevent different members of the group overwriting each others' changes (can merge multiple versions and use conflict resolution), can keep record of who wrote what\n",
    "* No need for millions of different versions of files named e.g. `version_1.txt`, `version_2.txt`, ..., `version_27.txt`, `FINAL_version.txt`, `FINAL_FINAL_version.txt`, `FINAL_FINAL_PRINT_version.txt`.\n",
    "\n",
    "### How?\n",
    "* [git](https://git-scm.com/) is the most popular tool for local version control\n",
    "* Alternatives: [Bazaar](http://bazaar.canonical.com/en/), [Subversion](https://subversion.apache.org/) (SVN), [Mercurial](https://www.mercurial-scm.org/)...\n",
    "* Online tools for hosting repositories such as [github](https://github.com/), [gitlab](https://gitlab.com), [bitbucket](https://bitbucket.org), [sourceforge](https://sourceforge.net/), [launchpad](https://launchpad.net/)"
   ]
  },
  {
   "cell_type": "code",
   "execution_count": null,
   "metadata": {
    "collapsed": true
   },
   "outputs": [],
   "source": []
  }
 ],
 "metadata": {
  "kernelspec": {
   "display_name": "Python 3",
   "language": "python",
   "name": "python3"
  },
  "language_info": {
   "codemirror_mode": {
    "name": "ipython",
    "version": 3
   },
   "file_extension": ".py",
   "mimetype": "text/x-python",
   "name": "python",
   "nbconvert_exporter": "python",
   "pygments_lexer": "ipython3",
   "version": "3.4.4"
  }
 },
 "nbformat": 4,
 "nbformat_minor": 0
}
