{
 "cells": [
  {
   "cell_type": "code",
   "execution_count": 1,
   "metadata": {
    "collapsed": false
   },
   "outputs": [
    {
     "data": {
      "text/html": [
       "<link href='http://fonts.googleapis.com/css?family=Open+Sans:100,300,400,500,700,800,900,100italic,300italic,400italic,500italic,700italic,800italic,900italic' rel='stylesheet' type='text/css'>\n",
       "<link href='http://fonts.googleapis.com/css?family=Merriweather:400,700,400italic' rel='stylesheet' type='text/css'>\n",
       "<link href='http://fonts.googleapis.com/css?family=Inconsolata' rel='stylesheet' type='text/css'>\n",
       "<style>\n",
       "\n",
       "@font-face {\n",
       "    font-family: \"Computer Modern\";\n",
       "    src: url('http://mirrors.ctan.org/fonts/cm-unicode/fonts/otf/cmunss.otf');\n",
       "}\n",
       "\n",
       "#notebook_panel { /* main background */\n",
       "    background: rgb(245,245,245);\n",
       "}\n",
       "\n",
       "div.cell { /* set cell width */\n",
       "    width: 1000px;\n",
       "}\n",
       "\n",
       "div #notebook { /* centre the content */\n",
       "    background: #fff; /* white background for content */\n",
       "    width: 1200px;\n",
       "    margin: auto;\n",
       "    padding-left: 0em;\n",
       "}\n",
       "\n",
       "#notebook li { /* More space between bullet points */\n",
       "margin-top:0.8em;\n",
       "}\n",
       "\n",
       "/* draw border around running cells */\n",
       "div.cell.border-box-sizing.code_cell.running {\n",
       "    border: 1px solid #111;\n",
       "}\n",
       "\n",
       "/* Put a solid color box around each cell and its output, visually linking them*/\n",
       "div.cell.code_cell {\n",
       "    font-family: 'Inconsolata', monospace;\n",
       "    background-color: rgb(256,256,256);\n",
       "    border-radius: 0px;\n",
       "    padding: 0.5em;\n",
       "    margin-left:1em;\n",
       "    margin-top: 1em;\n",
       "}\n",
       "\n",
       "div.text_cell_render{\n",
       "    font-family: 'Open Sans', sans-serif;\n",
       "    line-height: 140%;\n",
       "    font-size: 125%;\n",
       "    font-weight: 400;\n",
       "    width:900px;\n",
       "    margin-left:auto;\n",
       "    margin-right:auto;\n",
       "}\n",
       "\n",
       "/* Formatting for header cells */\n",
       ".text_cell_render h1 {\n",
       "    font-family: 'Merriweather', serif;\n",
       "    font-style:regular;\n",
       "    font-weight: 400;\n",
       "    font-size: 40pt;\n",
       "    line-height: 100%;\n",
       "    color: rgb(0,51,102);\n",
       "    margin-bottom: 0.5em;\n",
       "    margin-top: 0.5em;\n",
       "    display: block;\n",
       "}\n",
       ".text_cell_render h2 {\n",
       "    font-family: 'Merriweather', serif;\n",
       "    font-weight: 400;\n",
       "    font-size: 30pt;\n",
       "    line-height: 100%;\n",
       "    color: rgb(0,51,102);\n",
       "    margin-bottom: 0.1em;\n",
       "    margin-top: 0.3em;\n",
       "    display: block;\n",
       "}\n",
       "\n",
       ".text_cell_render h3 {\n",
       "    font-family: 'Merriweather', serif;\n",
       "    margin-top:16px;\n",
       "\tfont-size: 22pt;\n",
       "    font-weight: 400;\n",
       "    margin-bottom: 3px;\n",
       "    font-style: regular;\n",
       "    color: rgb(0,51,102);\n",
       "}\n",
       "\n",
       ".text_cell_render h4 {\n",
       "    font-family: 'Merriweather', serif;\n",
       "    font-size: 14pt;\n",
       "    margin-top: 2em;\n",
       "    margin-bottom: 2em;\n",
       "    font-style: regular;\n",
       "}\n",
       "\n",
       ".text_cell_render h5 {  /*Use this for small titles*/\n",
       "    font-family: 'Merriweather', sans-serif;\n",
       "    font-weight: 400;\n",
       "    font-size: 16pt;\n",
       "    color: rgb(163,0,0);\n",
       "    font-style: italic;\n",
       "    margin-bottom: .1em;\n",
       "    margin-top: 0.8em;\n",
       "    display: block;\n",
       "}\n",
       "\n",
       ".text_cell_render h6 { /*use this for copyright note*/\n",
       "    font-family: 'Inconsolata', sans-serif;\n",
       "    font-weight: 300;\n",
       "    font-size: 9pt;\n",
       "    line-height: 100%;\n",
       "    color: grey;\n",
       "    margin-bottom: 1px;\n",
       "    margin-top: 1px;\n",
       "}\n",
       "\n",
       ".CodeMirror{\n",
       "        font-size: 120%;\n",
       "}\n",
       "\n",
       "</style>\n",
       "<script>\n",
       "    MathJax.Hub.Config({\n",
       "                        TeX: {\n",
       "                           extensions: [\"AMSmath.js\"],\n",
       "                           equationNumbers: { autoNumber: \"AMS\", useLabelIds: true}\n",
       "                           },\n",
       "                tex2jax: {\n",
       "                    inlineMath: [ ['$','$'], [\"\\\\(\",\"\\\\)\"] ],\n",
       "                    displayMath: [ ['$$','$$'], [\"\\\\[\",\"\\\\]\"] ]\n",
       "                },\n",
       "                displayAlign: 'center', // Change this to 'center' to center equations.\n",
       "                \"HTML-CSS\": {\n",
       "                    styles: {'.MathJax_Display': {\"margin\": 4}}\n",
       "                }\n",
       "        });\n",
       "</script>\n"
      ],
      "text/plain": [
       "<IPython.core.display.HTML object>"
      ]
     },
     "execution_count": 1,
     "metadata": {},
     "output_type": "execute_result"
    }
   ],
   "source": [
    "from IPython.core.display import HTML\n",
    "css_file = \"./notebook_style.css\"\n",
    "HTML(open(css_file, 'r').read())"
   ]
  },
  {
   "cell_type": "markdown",
   "metadata": {},
   "source": [
    "# 01 Version Control Refresh"
   ]
  },
  {
   "cell_type": "markdown",
   "metadata": {},
   "source": [
    "### Why?\n",
    "* Allows you to keep a comprehensive record of all changes made during a project. This is very useful if you later make a change that breaks something as you will be able to track bugs down much faster!\n",
    "* Keeps a backup of files - this is useful if need to e.g. recreate some data (like a plot) that was made several months ago, as can easily 'rewind' code back to the state it was back then\n",
    "* Also allows you to make changes without worrying about breaking something (e.g. using branches)\n",
    "* If working in a group project, helps prevent different members of the group overwriting each others' changes (can merge multiple versions and use conflict resolution), can keep record of who wrote what\n",
    "* No need for millions of different versions of files named e.g. `version_1.txt`, `version_2.txt`, ..., `version_27.txt`, `FINAL_version.txt`, `FINAL_FINAL_version.txt`, `FINAL_FINAL_PRINT_version.txt`.\n",
    "\n",
    "### How?\n",
    "* [git](https://git-scm.com/) is the most popular tool for local version control\n",
    "* Alternatives: [Bazaar](http://bazaar.canonical.com/en/), [Subversion](https://subversion.apache.org/) (SVN), [Mercurial](https://www.mercurial-scm.org/)...\n",
    "* Online tools for hosting repositories such as [github](https://github.com/), [gitlab](https://gitlab.com), [bitbucket](https://bitbucket.org), [sourceforge](https://sourceforge.net/), [launchpad](https://launchpad.net/)"
   ]
  },
  {
   "cell_type": "markdown",
   "metadata": {},
   "source": [
    "## Why should I use version control?\n",
    "\n",
    "As you are on this course, I assume that you are familiar with version control and probably use it in the vast majority of projects. However, it is worth reminding ourselves why we use it (and why it's worth the occasional battle with `git`'s rather unintuitive workflow)."
   ]
  },
  {
   "cell_type": "markdown",
   "metadata": {
    "collapsed": true
   },
   "source": [
    "<center>![Git](https://imgs.xkcd.com/comics/git.png  )\n",
    "Git doesn't always make the most of sense - [xkcd](https://xkcd.com/1597/)</center>"
   ]
  },
  {
   "cell_type": "markdown",
   "metadata": {},
   "source": [
    "First of all, version control allows us to keep a comprehensive record of all changes made during a project. It keeps track of exactly what was edited, when this was done and who by. This is very useful if later down the line a change is made that breaks something, as it will make tracking down and pinpointing the line of code responsuble for the bug much faster."
   ]
  },
  {
   "cell_type": "markdown",
   "metadata": {},
   "source": [
    "Version control allows us to keep backups of previous versions of files. This is important if you ever need to recreate some data that was made using a previous version of the code, as you can easily 'rewind' the code back to the state it was then. For example, say you have submitted a paper to a journal. A few months later, you get a response from one of the reviewers that they would like you to replot one of your figures. However, in the meantime you have been working on your code and so in its current state you cannot recreate the data in the plot. If you have used version control, this will not be an issue as you can simply roll your code back to the version you used to create the original plot."
   ]
  },
  {
   "cell_type": "markdown",
   "metadata": {},
   "source": [
    "When making major changes to a code, it can often be a little scary as there is a large chance said change could break everything. It may be tempting to make a separate version of your project by hand - `project_version_2`- however this can quickly get messy (eventually you will end up with folders full of different versions of your project). Version control offers a better solution, allowing you to create branches. The working version of the code can be preserved on the main master branch while you hack away at code on some branch. If you implement a change and it breaks everything, you can also instantly roll your code back to the previous working version thanks to version control having kept a handy set of backups for you."
   ]
  },
  {
   "cell_type": "markdown",
   "metadata": {},
   "source": [
    "<center>![Versions](http://www.phdcomics.com/comics/archive/phd101212s.gif)\n",
    "Do not do this - [PHD Comics](http://www.phdcomics.com/comics/archive.php?comicid=1531)</center>"
   ]
  },
  {
   "cell_type": "markdown",
   "metadata": {},
   "source": [
    "If you are working on a project with other people, version control will keep track of who makes what changes and can help prevent different members from overwriting each others' changes through conflict resolution. This becomes more important the more people there are working on a project - imagine trying to work on a document with 100 other people and communicating changes to the document solely by email!"
   ]
  },
  {
   "cell_type": "markdown",
   "metadata": {},
   "source": [
    "<center>![Git branches](https://cdn-images-1.medium.com/max/400/1*naZweK-cwJpKRYp6Mp_EHg.png)\n",
    "Even with git, projects can get messy - [Medium](https://medium.com/@dashersw/how-to-manage-git-workflow-and-stay-sane-e32405e9dbf0#.32rtsbmzh)</center>"
   ]
  },
  {
   "cell_type": "markdown",
   "metadata": {},
   "source": [
    "For more on version control and reproducible research, check out [Tools for Reproducible Research](http://kbroman.org/Tools4RR/assets/lectures/06_org_eda_withnotes.pdf) by Karl Broman, where this excellent quote on the importance of version control comes from:\n",
    "\n",
    "> **Your closest collaborator is you six months ago, but you don’t reply to emails.**"
   ]
  },
  {
   "cell_type": "markdown",
   "metadata": {},
   "source": [
    "## How??\n",
    "\n",
    "[git](https://git-scm.com/) is the most popular tool for local version control, however alternatives do exist: [Bazaar](http://bazaar.canonical.com/en/), [Subversion](https://subversion.apache.org/) (SVN), [Mercurial](https://www.mercurial-scm.org/)...\n",
    "There are many online tools for hosting repositories out there, including [github](https://github.com/), [gitlab](https://gitlab.com), [bitbucket](https://bitbucket.org), [sourceforge](https://sourceforge.net/) and [launchpad](https://launchpad.net/)."
   ]
  },
  {
   "cell_type": "markdown",
   "metadata": {
    "collapsed": true
   },
   "source": [
    "## Read more\n",
    "- [Git cheat sheet](https://services.github.com/on-demand/downloads/github-git-cheat-sheet.pdf)\n",
    "- [think like a git](http://think-like-a-git.net/) if you want to go beyond the basics and understand what git is actually doing\n",
    "- [A Crash Course in Python for Scientists](http://nbviewer.jupyter.org/gist/anonymous/5924718) - a good reference in case you need to quickly remind yourself of something\n",
    "- [Python Cookbook](http://chimera.labs.oreilly.com/books/1230000000393) free to read online, contains lots of useful tricks for going beyond the basics in python\n"
   ]
  },
  {
   "cell_type": "code",
   "execution_count": null,
   "metadata": {
    "collapsed": true
   },
   "outputs": [],
   "source": []
  }
 ],
 "metadata": {
  "kernelspec": {
   "display_name": "Python 3",
   "language": "python",
   "name": "python3"
  },
  "language_info": {
   "codemirror_mode": {
    "name": "ipython",
    "version": 3
   },
   "file_extension": ".py",
   "mimetype": "text/x-python",
   "name": "python",
   "nbconvert_exporter": "python",
   "pygments_lexer": "ipython3",
   "version": "3.4.4"
  }
 },
 "nbformat": 4,
 "nbformat_minor": 0
}
