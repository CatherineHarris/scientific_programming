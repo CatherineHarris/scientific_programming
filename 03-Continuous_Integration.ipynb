{
 "cells": [
  {
   "cell_type": "markdown",
   "metadata": {},
   "source": [
    "# 03 Continuous Integration & Code Coverage"
   ]
  },
  {
   "cell_type": "code",
   "execution_count": 1,
   "metadata": {
    "collapsed": false
   },
   "outputs": [
    {
     "name": "stderr",
     "output_type": "stream",
     "text": [
      "/Users/aliceharpole/anaconda3/lib/python3.5/site-packages/matplotlib/font_manager.py:280: UserWarning: Matplotlib is building the font cache using fc-list. This may take a moment.\n",
      "  'Matplotlib is building the font cache using fc-list. '\n"
     ]
    }
   ],
   "source": [
    "import numpy\n",
    "import matplotlib.pyplot as plt\n",
    "%matplotlib inline"
   ]
  },
  {
   "cell_type": "markdown",
   "metadata": {},
   "source": [
    "## Continuous Integration\n",
    "\n",
    "### Why?\n",
    "* So you've written a set of tests for your code, you run them and everything passes - great! However, you then go back to work on your code and quickly forget about testing it. Eventually, a few months later after implementing several new features you remember to try testing your code again. You run the set of tests, only to find that they fail \n",
    "* Solution: continuous integration.\n",
    "* This will run your tests for you regularly (e.g. every night, every time you push changes to a repository) and report back to you the results\n",
    "* Can now spot (almost) instantly when code breaks \n",
    "\n",
    "### How?\n",
    "* Several tools out there: `travis.ci`, `jenkins.ci`, `circle.ci`\n",
    "* Involve writing a short script which details the computational setup (i.e. any libraries needed) and what code should be run to execute tests"
   ]
  },
  {
   "cell_type": "markdown",
   "metadata": {},
   "source": [
    "## Code converage\n",
    "### Why?\n",
    "* So you have a test suite and you're using continuous integration to run it regularly\n",
    "* However, how do you know that you are testing all parts of your code? It's all very well to test a few auxilliary functions, but if you're not testing the main part of the code then you still cannot trust the results\n",
    "* Solution: code coverage\n",
    "* This will track what parts of the code are being run when tests execute and will highlight areas not currently being tested\n",
    "* Generally want to aim for > 90% code coverage\n",
    "\n",
    "### How?\n",
    "* There exist libraries for most languages that will produce code coverage reports, e.g. `coverage.py` for python, `gcov` for C/C++, `tcov` for C/C++/fortran\n",
    "* Can use tools like Codecov to integrate these tools with continuous integration, providing an easy-to-use interface to analyse code coverage and keep track of code coverage as develop code\n",
    "* These tools are also particularly useful if code is written in multiple languages, as will combine reports produced for each of the different languages"
   ]
  },
  {
   "cell_type": "code",
   "execution_count": null,
   "metadata": {
    "collapsed": true
   },
   "outputs": [],
   "source": []
  }
 ],
 "metadata": {
  "kernelspec": {
   "display_name": "Python [default]",
   "language": "python",
   "name": "python3"
  },
  "language_info": {
   "codemirror_mode": {
    "name": "ipython",
    "version": 3
   },
   "file_extension": ".py",
   "mimetype": "text/x-python",
   "name": "python",
   "nbconvert_exporter": "python",
   "pygments_lexer": "ipython3",
   "version": "3.5.2"
  }
 },
 "nbformat": 4,
 "nbformat_minor": 2
}
