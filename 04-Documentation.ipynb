{
 "cells": [
  {
   "cell_type": "markdown",
   "metadata": {},
   "source": [
    "# 04 Documentation"
   ]
  },
  {
   "cell_type": "markdown",
   "metadata": {},
   "source": [
    "### Why?\n",
    "* Simply: why should someone trust your code if they have no idea how it works?\n",
    "* In experimental sciences, experiments must be reproducible: give a description of the apparatus and experimental setup, it should be possible for someone else to replicate results.\n",
    "* Similarly, for computational sciences, given the algorithm and information about how it's been implemented in your code, it should be possible for someone else to write their own code and replicate your results.\n",
    "* It should also be possible for a new user to be able to read and understand what your code is doing without any extra explanation from you\n",
    "* You should be able to look back at code you wrote weeks/months/years ago and still understand how it works\n",
    "\n",
    "### How?\n",
    "* Always write your code as if someone else is going to be using it at a later date. No matter how small the project may be at the start, often it will turn into something much bigger / be incorporated later on into another project\n",
    "* Useful for code to be to some extent 'self-documenting' - e.g. classes, functions and variables given sensible, descriptive names that make it clear what they are doing\n",
    "* Tools such as `sphinx` and `doxygen` will generate documentation for you from docstrings and annotations\n",
    "* Services such as `Read The Docs` will host repository's documentation and work with version control/continuous services to recompile when push changes \n",
    "* Tools such as python's `doctest` will allow you to write tests which can then be easily incorporated into documentation"
   ]
  },
  {
   "cell_type": "markdown",
   "metadata": {
    "collapsed": true
   },
   "source": [
    "Documentation is a part of software development that is often overlooked. In the rush to produce results, it can seem like a waste of time writing documentation when you could instead be fixing bugs or adding new features. However, good documentation is vital for good code: why should someone trust your code is producing the correct results if they have no idea how it works? \n",
    "\n",
    "In experimental science, experiments must be reproducible. The apparatus and experimental setup must be described in enough detail that an independent group can replicate any results. Detailed descriptions of testing are given to demonstrate that the apparatus are performing as designed and so any new results can be trusted. \n",
    "\n",
    "In computational science, we should aim for similar standards. The algorithm and its implementation should ideally be described in enough detail for someone who does not have access to the original source code to implement it themselves and reproduce your results. Tests should be described to demonstrate the functionality of the code and show it is performing as described. \n",
    "\n",
    "Documentation also helps other users of the code. It's likely that at some point you will want to show or give your code to someone else. If it's well documented, this will allow other people to read and understand what your code is doing without you having to sit down with them and explain everything in person. \n",
    "\n",
    "Finally, documentation will help you be a more effective software developer. If you are working on the same code for any length of time, it is very easy to forget how parts of it you wrote weeks/months/years ago work. By taking the time to comment your code, briefly explaining how it works and why you made certain choices (e.g. of algorithm, data structure), it will save you a lot of time down the line."
   ]
  },
  {
   "cell_type": "code",
   "execution_count": null,
   "metadata": {
    "collapsed": true
   },
   "outputs": [],
   "source": []
  }
 ],
 "metadata": {
  "kernelspec": {
   "display_name": "Python 3",
   "language": "python",
   "name": "python3"
  },
  "language_info": {
   "codemirror_mode": {
    "name": "ipython",
    "version": 3
   },
   "file_extension": ".py",
   "mimetype": "text/x-python",
   "name": "python",
   "nbconvert_exporter": "python",
   "pygments_lexer": "ipython3",
   "version": "3.4.4"
  }
 },
 "nbformat": 4,
 "nbformat_minor": 2
}
