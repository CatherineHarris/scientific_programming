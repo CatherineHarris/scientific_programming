{
 "cells": [
  {
   "cell_type": "markdown",
   "metadata": {},
   "source": [
    "# 04 Documentation"
   ]
  },
  {
   "cell_type": "markdown",
   "metadata": {},
   "source": [
    "### Why?\n",
    "* Simply: why should someone trust your code if they have no idea how it works?\n",
    "* In experimental sciences, experiments must be reproducible: give a description of the apparatus and experimental setup, it should be possible for someone else to replicate results.\n",
    "* Similarly, for computational sciences, given the algorithm and information about how it's been implemented in your code, it should be possible for someone else to write their own code and replicate your results.\n",
    "* It should also be possible for a new user to be able to read and understand what your code is doing without any extra explanation from you\n",
    "* You should be able to look back at code you wrote weeks/months/years ago and still understand how it works\n",
    "\n",
    "### How?\n",
    "* Always write your code as if someone else is going to be using it at a later date. No matter how small the project may be at the start, often it will turn into something much bigger / be incorporated later on into another project\n",
    "* Useful for code to be to some extent 'self-documenting' - e.g. classes, functions and variables given sensible, descriptive names that make it clear what they are doing\n",
    "* Tools such as [`sphinx`](http://www.sphinx-doc.org/en/stable/) and [`doxygen`](http://www.stack.nl/~dimitri/doxygen/) will generate documentation for you from docstrings and annotations\n",
    "* Services such as [`Read The Docs`](https://readthedocs.org/) will host repository's documentation and work with version control/continuous services to recompile when push changes \n",
    "* Tools such as python's `doctest` will allow you to write tests which can then be easily incorporated into documentation"
   ]
  },
  {
   "cell_type": "markdown",
   "metadata": {},
   "source": [
    "## Why should I document my code?\n",
    "\n",
    "Documentation is a part of software development that is often overlooked. In the rush to produce results, it can seem like a waste of time writing documentation when you could instead be fixing bugs or adding new features. However, good documentation is vital for good code: why should someone trust your code is producing the correct results if they have no idea how it works? \n",
    "\n",
    "In experimental science, experiments must be reproducible. The apparatus and experimental setup must be described in enough detail that an independent group can replicate any results. Detailed descriptions of testing are given to demonstrate that the apparatus are performing as designed and so any new results can be trusted. \n",
    "\n",
    "In computational science, we should aim for similar standards. The algorithm and its implementation should ideally be described in enough detail for someone who does not have access to the original source code to implement it themselves and reproduce your results. Tests should be described to demonstrate the functionality of the code and show it is performing as described. \n",
    "\n",
    "Documentation also helps other users of the code. It's likely that at some point you will want to show or give your code to someone else. If it's well documented, this will allow other people to read and understand what your code is doing without you having to sit down with them and explain everything in person. "
   ]
  },
  {
   "cell_type": "markdown",
   "metadata": {},
   "source": [
    "<center>![Documentation](http://www.phdcomics.com/comics/archive/phd031214s.gif)\n",
    "Good documentation is important - [PHD Comics](http://www.phdcomics.com/comics/archive/phd031214s.gif)</center>"
   ]
  },
  {
   "cell_type": "markdown",
   "metadata": {
    "collapsed": true
   },
   "source": [
    "Finally, documentation will help you be a more effective software developer. If you are working on the same code for any length of time, it is very easy to forget how parts of it you wrote weeks/months/years ago work. By taking the time to comment your code, briefly explaining how it works and why you made certain choices (e.g. of algorithm, data structure), it will save you a lot of time down the line."
   ]
  },
  {
   "cell_type": "markdown",
   "metadata": {
    "collapsed": true
   },
   "source": [
    "<center>![Comments](commenting.jpg)\n",
    "[Geek and Poke](http://geekandpoke.typepad.com/geekandpoke/2011/06/code-commenting-made-easy.html)</center>\n",
    "\n"
   ]
  },
  {
   "cell_type": "markdown",
   "metadata": {},
   "source": [
    "## How?\n",
    "\n",
    "Bad documentation is almost as useless as no documentation at all: to be useful, documentation must be easy to navigate, clear and concise yet informative. Ideally, it should answer any potential questions a new user (with some assumed level of background knowledge) might have about your code. \n",
    "\n",
    "Starting to write documentation can be a daunting task, especially if your code is already quite well developed. It's therefore a good idea to begin writing documentation as soon as possible. No matter how small a project may seem at the start, there is always the potential that it will turn into something bigger or be incorporated into another project at a later date.\n",
    "\n",
    "* Always write your code as if someone else is going to be using it at a later date. No matter how small the project may be at the start, often it will turn into something much bigger / be incorporated later on into another project\n",
    "* Useful for code to be to some extent 'self-documenting' - e.g. classes, functions and variables given sensible, descriptive names that make it clear what they are doing\n",
    "* Tools such as [`sphinx`](http://www.sphinx-doc.org/en/stable/) and [`doxygen`](http://www.stack.nl/~dimitri/doxygen/) will generate documentation for you from docstrings and annotations\n",
    "* Services such as [`Read The Docs`](https://readthedocs.org/) will host repository's documentation and work with version control/continuous services to recompile when push changes \n",
    "* Tools such as python's `doctest` will allow you to write tests which can then be easily incorporated into documentation\n",
    "\n",
    "Different programming languages have different documentation conventions and standards. For python, a good standard to follow is that used by the [`numpy` and `scipy` documentation](https://github.com/numpy/numpy/blob/master/doc/HOWTO_DOCUMENT.rst.txt). This helps produce documentation that is clear and concise, and it can be used in combination with `sphinx` (provided the `numpydoc` extension is used). Docstrings and can be written in [reStructuredText](http://docutils.sourceforge.net/docs/user/rst/quickref.html), enabling the use of e.g. lists, tables, hyperlinks and laTeX maths expressions. "
   ]
  },
  {
   "cell_type": "markdown",
   "metadata": {
    "collapsed": true
   },
   "source": [
    "## Automating documentation\n",
    "\n",
    "Fortunately, there are tools out there that can take a lot of the work out of documenting your code. They can take information from the source code itself, including comments within the code, and turn this into clear, well-structured documentation. Two commonly used tools are [`sphinx`](http://www.sphinx-doc.org/en/stable/) and [`doxygen`](http://www.stack.nl/~dimitri/doxygen/). Sphinx is good for python projects, doxygen for C++ projects. \n",
    "\n",
    "These tools can then be linked to a [`Read The Docs`](https://readthedocs.org/) account. This will host the repository's documentation and, much like the continuous integration tools of the previous section, can be configured to rebuild the documentation every time changes are pushed so that it is kept up to date with the latest versions of your code. "
   ]
  },
  {
   "cell_type": "markdown",
   "metadata": {},
   "source": [
    "### Sphinx\n",
    "\n",
    "Getting started with Sphinx is simple: navigate to the directory where you'd like to build your documentation and execute\n",
    "\n",
    "    sphinx-quickstart\n",
    "    \n",
    "This will produce a series of prompts, asking questions about your project. At the end, it will then automatically generate some skeleton documentation: a `docs` directory containing a Makefile, a configuration file `conf.py` and a master document `index.rst`. The Makefile is what you will use to build your documentation - you'll probably want to leave this alone. The configuration file contains information about the sphinx setup including the values you gave when quickstart-ing your project - for now you will probably want to leave this alone as well, but there are a lot of parameters in there that can be customised if you so wish. The master document is the index file for your documentation. It normally contains a brief introduction to the project and a table of contents linking to the other pages of the documentation. Let's look at the index file that quickstart generated for us:"
   ]
  },
  {
   "cell_type": "markdown",
   "metadata": {},
   "source": [
    "```rst\n",
    "Welcome to My Project's documentation!\n",
    "======================================\n",
    "\n",
    "Contents:\n",
    "\n",
    ".. toctree::\n",
    "   :maxdepth: 2\n",
    "   \n",
    "Indices and tables\n",
    "==================\n",
    "\n",
    "* :ref:`genindex`\n",
    "* :ref:`modindex`\n",
    "* :ref:`search`\n",
    "```"
   ]
  },
  {
   "cell_type": "markdown",
   "metadata": {},
   "source": [
    "The index file currently contains a `toctree` (a **T**able **O**f **C**ontents **tree**). The `maxdepth` option here says that the table of contents will list headings and subheadings but not subsubheadings. At the bottom, Sphinx has put links to some pages it has generated for us automatically by looking at the source files in the original project folder: an index of functions, classes, member variables etc., an index of modules and a search page. \n",
    "\n",
    "Let's add another page to our documentation by creating the file `example.rst`:"
   ]
  },
  {
   "cell_type": "markdown",
   "metadata": {},
   "source": [
    "#### example.rst\n",
    "```rst\n",
    "Example Title\n",
    "=============\n",
    "\n",
    "This is some example text about an example project.\n",
    "\n",
    "Example subtitle\n",
    "----------------\n",
    "This is some more example text\n",
    "\n",
    "    * with an\n",
    "    * example list\n",
    "    \n",
    "and some ``example code``.\n",
    "```"
   ]
  },
  {
   "cell_type": "markdown",
   "metadata": {},
   "source": [
    "We now include this file in our documentation by amending the `toctree`:\n",
    "\n",
    "```rst\n",
    "Contents:\n",
    "\n",
    ".. toctree::\n",
    "   :maxdepth: 2\n",
    "   \n",
    "   example\n",
    "```\n",
    "\n",
    "The spacing here is very important: there must be a blank line after the `maxdepth` option, and three spaces between the file name and the left margin. We can now build our documentation by executing \n",
    "\n",
    "    make html\n",
    "    \n",
    "This will build a set of HTML pages in the directory `docs/_build/html`. If you open the `index.html` file in a browser, this should give you a look at the documentation it built. \n",
    "\n",
    "The default Sphinx formatting is perhaps not the prettiest, but fortunately at this point we can now link our project to Read the Docs. Once you've made an account and linked it to your github/bitbucket account, Read the Docs will then scan for repositories connected to your account(s). You can also create a project manually by providing the repository URL. It will then use Sphinx to build documentation for your project, hosting it online at `myproject.readthedocs.io`. This documentation will be rebuilt every time you push changes to your code to the remote repository, automatically keeping your documentation up to date with minimal effort on your part!"
   ]
  },
  {
   "cell_type": "markdown",
   "metadata": {
    "collapsed": true
   },
   "source": [
    "## Read more\n",
    "- [markdown reference](https://learnxinyminutes.com/docs/markdown/)\n",
    "- [reStructuredText reference](http://docutils.sourceforge.net/docs/user/rst/quickref.html) \n",
    "- [Quick introduction to Sphinx](https://www.ibm.com/developerworks/library/os-sphinx-documentation/)\n",
    "- [A more detailed guide to Sphinx](https://pythonhosted.org/an_example_pypi_project/sphinx.html)\n",
    "- [Full Sphinx documentation](http://www.sphinx-doc.org/en/stable/contents.html)"
   ]
  },
  {
   "cell_type": "code",
   "execution_count": null,
   "metadata": {
    "collapsed": true
   },
   "outputs": [],
   "source": []
  }
 ],
 "metadata": {
  "kernelspec": {
   "display_name": "Python 3",
   "language": "python",
   "name": "python3"
  },
  "language_info": {
   "codemirror_mode": {
    "name": "ipython",
    "version": 3
   },
   "file_extension": ".py",
   "mimetype": "text/x-python",
   "name": "python",
   "nbconvert_exporter": "python",
   "pygments_lexer": "ipython3",
   "version": "3.4.4"
  }
 },
 "nbformat": 4,
 "nbformat_minor": 2
}
