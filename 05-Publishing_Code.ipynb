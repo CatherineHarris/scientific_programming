{
 "cells": [
  {
   "cell_type": "markdown",
   "metadata": {},
   "source": [
    "# 05 Publishing Scientific Codes"
   ]
  },
  {
   "cell_type": "markdown",
   "metadata": {},
   "source": [
    "* At some point, it is likely you're going to want to publish your code or give your code to another person\n",
    "* You want to make it as easy as possible for the other person to install and run your code\n",
    "* To do this, need to use tools to enable easy installation, replication of runtime environment, distribution of code\n",
    "\n",
    "### Make\n",
    "* Make files can be used to automate pipelines\n",
    "* Useful to automate installation, including compilation, building of documentation, running test suites\n",
    "* Makefiles can quickly get unwieldly for large projects and if have cross-platform support. In such cases, automated build systems such as autotools and CMake can be used\n",
    "\n",
    "### Containers\n",
    "* Allow replication of entire runtime environment: application, dependencies, libraries, confirugration files etc\n",
    "* Not only does this make it much easier and faster for someone else to run your code, it also means that their 'experimental setup' is the same as yours, e.g. they're running the same versions of libraries. It means they can also run code on their system regardless of their operating system: as long as they have Docker installed, they could run your Linux code on a Mac or even a Windows machine\n",
    "* Containers like `Docker` are much more lightweight than virtual machines which contain entire operating system: container may be a few tens of megabytes, whereas a virtual machine could be several gigabytes\n",
    "\n",
    "### Distributing code\n",
    "* For python, can upload code to the Python Package Index, `pypi`, which will allow anyone else to install code using `pip`\n",
    "* If packaged code in a Docker image, can add to `Docker Hub`, a cloud-based registry service which will allow others to easily find your code\n",
    "* Make sure your code has some kind of software license (e.g. BSD, MIT, GPL) - see http://choosealicense.com/\n",
    "* Give your code a DOI - e.g. using `zenodo`"
   ]
  },
  {
   "cell_type": "code",
   "execution_count": null,
   "metadata": {
    "collapsed": true
   },
   "outputs": [],
   "source": []
  }
 ],
 "metadata": {
  "kernelspec": {
   "display_name": "Python [default]",
   "language": "python",
   "name": "python3"
  },
  "language_info": {
   "codemirror_mode": {
    "name": "ipython",
    "version": 3
   },
   "file_extension": ".py",
   "mimetype": "text/x-python",
   "name": "python",
   "nbconvert_exporter": "python",
   "pygments_lexer": "ipython3",
   "version": "3.5.2"
  }
 },
 "nbformat": 4,
 "nbformat_minor": 2
}
