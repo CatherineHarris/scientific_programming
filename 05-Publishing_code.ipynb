{
 "cells": [
  {
   "cell_type": "markdown",
   "metadata": {},
   "source": [
    "# 05 Publishing Scientific Codes"
   ]
  },
  {
   "cell_type": "markdown",
   "metadata": {},
   "source": [
    "If all goes well, it's likely that at some point you are going to want to publish your code, or at the very least show your code to another person. In this case, it would therefore be great if you could make it as easy as possible to some other person to install and run you code (and potentially even hack away at it themselves). In order to do this, you need to use tools which enable easy installation and replication of your runtime environment.\n",
    "\n",
    "* At some point, it is likely you're going to want to publish your code or give your code to another person\n",
    "* You want to make it as easy as possible for the other person to install and run your code\n",
    "* To do this, need to use tools to enable easy installation, replication of runtime environment, distribution of code"
   ]
  },
  {
   "cell_type": "markdown",
   "metadata": {},
   "source": [
    "## Automating installation\n",
    "\n",
    "For simple python codes, installation may be as easy as downloading the code and running `python filename.py`. However, for more complex codes which are spread over many files, require compilation and/or have multiple dependencies, installation can get a lot trickier. For such cases, it therefore becomes necessary to have some way of automating the installation and build process. One such way of doing this is by using Makefiles.\n",
    "\n",
    "### Make\n",
    "* Make files can be used to automate pipelines\n",
    "* Useful to automate installation, including compilation, building of documentation, running test suites\n",
    "* Makefiles can quickly get unwieldly for large projects and if have cross-platform support. In such cases, automated build systems such as autotools and CMake can be used"
   ]
  },
  {
   "cell_type": "markdown",
   "metadata": {},
   "source": [
    "## Replicating runtime environments\n",
    "\n",
    "Unfortunately for those of us developing code, no two runtime environments are exactly the same. Every computational setup has its own unique hardware and selection of installed software. However, we wish our code to be as reproducible as possible: ideally, it should be possible to gain exactly the same results, regardless of what system the code is run on. In the interests of open research, it's often the case that we also would like to make our code as accessible as possible. We'd therefore like to support a range of operating systems and computer hardware. \n",
    "\n",
    "Whilst it is impossible to replicate exactly the runtime environment in which you developed your code on another machine (no two sets of hardware are identical), it is possible to get a close approximation of the software. \n",
    "\n",
    "### Containers\n",
    "* Allow replication of entire runtime environment: application, dependencies, libraries, configuration files etc\n",
    "* Not only does this make it much easier and faster for someone else to run your code, it also means that their 'experimental setup' is the same as yours, e.g. they're running the same versions of libraries. It means they can also run code on their system regardless of their operating system: as long as they have Docker installed, they could run your Linux code on a Mac or even a Windows machine\n",
    "* Containers like `Docker` are much more lightweight than virtual machines which contain entire operating system: container may be a few tens of megabytes, whereas a virtual machine could be several gigabytes"
   ]
  },
  {
   "cell_type": "markdown",
   "metadata": {},
   "source": [
    "## Distributing code\n",
    "* Can be as simple as sharing a link to your github repo \n",
    "* For python, can upload code to the Python Package Index, `pypi`, which will allow anyone else to install code using `pip`\n",
    "* If packaged code in a Docker image, can add to `Docker Hub`, a cloud-based registry service which will allow others to easily find your code\n",
    "* Make sure your code has some kind of software license (e.g. BSD, MIT, GPL) - see http://choosealicense.com/\n",
    "* Give your code a DOI - e.g. using `zenodo`"
   ]
  },
  {
   "cell_type": "markdown",
   "metadata": {
    "collapsed": true
   },
   "source": [
    "## Presenting results\n",
    "* Something here about how to make nice looking and informative plots? There are far too many terrible figures that look boring and are impossible to understand out there.\n",
    "* If you want to convince someone that your code is producing results that are 1) correct and 2) interesting, it's important to present them in a way that is \n",
    "    - easy to understand - the point of figures is to present data in a way that is easier to understand than simply looking at the raw data. If your figure is hard to read, readers will simply skip over it.\n",
    "    - informative - the way data is presented can powerfully influence how your reader will interpret the results\n",
    "    - attractive - if someone is just skimming a paper, you want to make sure that your figures catch their eye!\n",
    "* It's very tempting to just use the default settings to produce your plots, but in almost all cases figures could be seriously improved by a few tweaks (e.g. adding a legend, increasing font size of axis labels, changing the default colours)\n",
    "* See [this article](http://journals.plos.org/ploscompbiol/article?id=10.1371/journal.pcbi.1003833) for some key points to consider when making figures\n",
    "* Interactive plots can be a much more powerful way to present data than traditional static plots - some journals are moving to allow these sorts of plots in (the online versions of) papers (and this is only going to increase in the future). Libraries such as bokeh and plotly allow easy generation of such plots.\n",
    "* Beyond matplotlib: [bokeh](http://bokeh.pydata.org), [seaborn](http://seaborn.pydata.org/index.html), [plotly](https://plot.ly/), [vispy](http://vispy.org)\n",
    "    - matplotlib is extremely powerful, but it takes a lot of work to make good plots. \n",
    "    - Make your life easier by using a package with better default settings"
   ]
  },
  {
   "cell_type": "markdown",
   "metadata": {},
   "source": [
    "<center>![Defaults vs tweaked](journal.pcbi.1003833.g004.png)\n",
    "These two plots of the sine and cosine functions demonstrate the importance of going beyond the defaults - the one of the left uses the matplotlib default settings, the one of the right has been tweaked so that it is much more informative. [source](http://dx.doi.org/10.1371/journal.pcbi.1003833.g004)</center>"
   ]
  },
  {
   "cell_type": "code",
   "execution_count": 1,
   "metadata": {
    "collapsed": false
   },
   "outputs": [],
   "source": [
    "import numpy\n",
    "xs = numpy.linspace(-numpy.pi, numpy.pi)\n",
    "ys = [numpy.sin(xs), numpy.cos(xs)]"
   ]
  },
  {
   "cell_type": "code",
   "execution_count": 2,
   "metadata": {
    "collapsed": false
   },
   "outputs": [
    {
     "data": {
      "image/png": "[encoded data removed]",
      "text/plain": [
       "<matplotlib.figure.Figure at 0x7f5b280b5f98>"
      ]
     },
     "metadata": {},
     "output_type": "display_data"
    }
   ],
   "source": [
    "import matplotlib.pyplot as plt\n",
    "% matplotlib inline\n",
    "\n",
    "plt.plot(xs, ys[0], 'b', label=r'$\\sin(x)$')\n",
    "plt.plot(xs, ys[1], 'r', label=r'$\\cos(x)$')\n",
    "plt.xlim(xs[0], xs[-1])\n",
    "plt.xlabel(r'$x$')\n",
    "plt.ylabel(r'$y$')\n",
    "plt.legend()\n",
    "plt.show()"
   ]
  },
  {
   "cell_type": "code",
   "execution_count": 3,
   "metadata": {
    "collapsed": false
   },
   "outputs": [
    {
     "data": {
      "image/png": "[encoded data removed]",
      "text/plain": [
       "<matplotlib.figure.Figure at 0x7f5aefa14630>"
      ]
     },
     "metadata": {},
     "output_type": "display_data"
    }
   ],
   "source": [
    "import seaborn \n",
    "\n",
    "plt.plot(xs, ys[0], 'b', label=r'$\\sin(x)$')\n",
    "plt.plot(xs, ys[1], 'r', label=r'$\\cos(x)$')\n",
    "plt.xlim(xs[0], xs[-1])\n",
    "plt.xlabel(r'$x$')\n",
    "plt.ylabel(r'$y$')\n",
    "plt.legend()\n",
    "plt.show()"
   ]
  },
  {
   "cell_type": "code",
   "execution_count": 4,
   "metadata": {
    "collapsed": false
   },
   "outputs": [
    {
     "data": {
      "text/html": [
       "\n",
       "    <div class=\"bk-banner\">\n",
       "        <a href=\"http://bokeh.pydata.org\" target=\"_blank\" class=\"bk-logo bk-logo-small bk-logo-notebook\"></a>\n",
       "        <span id=\"101d4759-3871-471f-9f9e-b98bd30ffa15\">Loading BokehJS ...</span>\n",
       "    </div>"
      ]
     },
     "metadata": {},
     "output_type": "display_data"
    },
    {
     "data": {
      "application/javascript": [
       "\n",
       "(function(global) {\n",
       "  function now() {\n",
       "    return new Date();\n",
       "  }\n",
       "\n",
       "  if (typeof (window._bokeh_onload_callbacks) === \"undefined\") {\n",
       "    window._bokeh_onload_callbacks = [];\n",
       "  }\n",
       "\n",
       "  function run_callbacks() {\n",
       "    window._bokeh_onload_callbacks.forEach(function(callback) { callback() });\n",
       "    delete window._bokeh_onload_callbacks\n",
       "    console.info(\"Bokeh: all callbacks have finished\");\n",
       "  }\n",
       "\n",
       "  function load_libs(js_urls, callback) {\n",
       "    window._bokeh_onload_callbacks.push(callback);\n",
       "    if (window._bokeh_is_loading > 0) {\n",
       "      console.log(\"Bokeh: BokehJS is being loaded, scheduling callback at\", now());\n",
       "      return null;\n",
       "    }\n",
       "    if (js_urls == null || js_urls.length === 0) {\n",
       "      run_callbacks();\n",
       "      return null;\n",
       "    }\n",
       "    console.log(\"Bokeh: BokehJS not loaded, scheduling load and callback at\", now());\n",
       "    window._bokeh_is_loading = js_urls.length;\n",
       "    for (var i = 0; i < js_urls.length; i++) {\n",
       "      var url = js_urls[i];\n",
       "      var s = document.createElement('script');\n",
       "      s.src = url;\n",
       "      s.async = false;\n",
       "      s.onreadystatechange = s.onload = function() {\n",
       "        window._bokeh_is_loading--;\n",
       "        if (window._bokeh_is_loading === 0) {\n",
       "          console.log(\"Bokeh: all BokehJS libraries loaded\");\n",
       "          run_callbacks()\n",
       "        }\n",
       "      };\n",
       "      s.onerror = function() {\n",
       "        console.warn(\"failed to load library \" + url);\n",
       "      };\n",
       "      console.log(\"Bokeh: injecting script tag for BokehJS library: \", url);\n",
       "      document.getElementsByTagName(\"head\")[0].appendChild(s);\n",
       "    }\n",
       "  };\n",
       "\n",
       "  var js_urls = ['https://cdn.pydata.org/bokeh/release/bokeh-0.11.1.min.js', 'https://cdn.pydata.org/bokeh/release/bokeh-widgets-0.11.1.min.js', 'https://cdn.pydata.org/bokeh/release/bokeh-compiler-0.11.1.min.js'];\n",
       "\n",
       "  var inline_js = [\n",
       "    function(Bokeh) {\n",
       "      Bokeh.set_log_level(\"info\");\n",
       "    },\n",
       "    \n",
       "    function(Bokeh) {\n",
       "      Bokeh.$(\"#101d4759-3871-471f-9f9e-b98bd30ffa15\").text(\"BokehJS successfully loaded\");\n",
       "    },\n",
       "    function(Bokeh) {\n",
       "      console.log(\"Bokeh: injecting CSS: https://cdn.pydata.org/bokeh/release/bokeh-0.11.1.min.css\");\n",
       "      Bokeh.embed.inject_css(\"https://cdn.pydata.org/bokeh/release/bokeh-0.11.1.min.css\");\n",
       "      console.log(\"Bokeh: injecting CSS: https://cdn.pydata.org/bokeh/release/bokeh-widgets-0.11.1.min.css\");\n",
       "      Bokeh.embed.inject_css(\"https://cdn.pydata.org/bokeh/release/bokeh-widgets-0.11.1.min.css\");\n",
       "    }\n",
       "  ];\n",
       "\n",
       "  function run_inline_js() {\n",
       "    for (var i = 0; i < inline_js.length; i++) {\n",
       "      inline_js[i](window.Bokeh);\n",
       "    }\n",
       "  }\n",
       "\n",
       "  if (window._bokeh_is_loading === 0) {\n",
       "    console.log(\"Bokeh: BokehJS loaded, going straight to plotting\");\n",
       "    run_inline_js();\n",
       "  } else {\n",
       "    load_libs(js_urls, function() {\n",
       "      console.log(\"Bokeh: BokehJS plotting callback run at\", now());\n",
       "      run_inline_js();\n",
       "    });\n",
       "  }\n",
       "}(this));"
      ]
     },
     "metadata": {},
     "output_type": "display_data"
    }
   ],
   "source": [
    "import bokeh.plotting as bkh\n",
    "from bokeh.io import output_notebook\n",
    "output_notebook()"
   ]
  },
  {
   "cell_type": "code",
   "execution_count": 5,
   "metadata": {
    "collapsed": false
   },
   "outputs": [
    {
     "data": {
      "text/html": [
       "\n",
       "\n",
       "    <div class=\"plotdiv\" id=\"aba07e88-fe51-419d-b8f0-239f5127e01f\"></div>\n",
       "<script type=\"text/javascript\">\n",
       "  \n",
       "  (function(global) {\n",
       "    function now() {\n",
       "      return new Date();\n",
       "    }\n",
       "  \n",
       "    if (typeof (window._bokeh_onload_callbacks) === \"undefined\") {\n",
       "      window._bokeh_onload_callbacks = [];\n",
       "    }\n",
       "  \n",
       "    function run_callbacks() {\n",
       "      window._bokeh_onload_callbacks.forEach(function(callback) { callback() });\n",
       "      delete window._bokeh_onload_callbacks\n",
       "      console.info(\"Bokeh: all callbacks have finished\");\n",
       "    }\n",
       "  \n",
       "    function load_libs(js_urls, callback) {\n",
       "      window._bokeh_onload_callbacks.push(callback);\n",
       "      if (window._bokeh_is_loading > 0) {\n",
       "        console.log(\"Bokeh: BokehJS is being loaded, scheduling callback at\", now());\n",
       "        return null;\n",
       "      }\n",
       "      if (js_urls == null || js_urls.length === 0) {\n",
       "        run_callbacks();\n",
       "        return null;\n",
       "      }\n",
       "      console.log(\"Bokeh: BokehJS not loaded, scheduling load and callback at\", now());\n",
       "      window._bokeh_is_loading = js_urls.length;\n",
       "      for (var i = 0; i < js_urls.length; i++) {\n",
       "        var url = js_urls[i];\n",
       "        var s = document.createElement('script');\n",
       "        s.src = url;\n",
       "        s.async = false;\n",
       "        s.onreadystatechange = s.onload = function() {\n",
       "          window._bokeh_is_loading--;\n",
       "          if (window._bokeh_is_loading === 0) {\n",
       "            console.log(\"Bokeh: all BokehJS libraries loaded\");\n",
       "            run_callbacks()\n",
       "          }\n",
       "        };\n",
       "        s.onerror = function() {\n",
       "          console.warn(\"failed to load library \" + url);\n",
       "        };\n",
       "        console.log(\"Bokeh: injecting script tag for BokehJS library: \", url);\n",
       "        document.getElementsByTagName(\"head\")[0].appendChild(s);\n",
       "      }\n",
       "    };var element = document.getElementById(\"aba07e88-fe51-419d-b8f0-239f5127e01f\");\n",
       "    if (element == null) {\n",
       "      console.log(\"Bokeh: ERROR: autoload.js configured with elementid 'aba07e88-fe51-419d-b8f0-239f5127e01f' but no matching script tag was found. \")\n",
       "      return false;\n",
       "    }\n",
       "  \n",
       "    var js_urls = [];\n",
       "  \n",
       "    var inline_js = [\n",
       "      function(Bokeh) {\n",
       "        Bokeh.$(function() {\n",
       "            var docs_json = {\"b74b4be3-e163-4d67-966c-b6b396be559e\":{\"roots\":{\"references\":[{\"attributes\":{},\"id\":\"301a9e9b-1721-445e-9ce9-400a1890b98f\",\"type\":\"BasicTickFormatter\"},{\"attributes\":{\"plot\":{\"id\":\"daf02cd1-2b3b-4ec5-b6af-8606e5deb220\",\"subtype\":\"Figure\",\"type\":\"Plot\"}},\"id\":\"75c0c236-199d-4cea-b851-97a5454ea2b1\",\"type\":\"PanTool\"},{\"attributes\":{\"callback\":null},\"id\":\"747476c3-1f93-493a-bd9b-b3f2189aacd8\",\"type\":\"DataRange1d\"},{\"attributes\":{\"axis_label\":\"x\",\"formatter\":{\"id\":\"301a9e9b-1721-445e-9ce9-400a1890b98f\",\"type\":\"BasicTickFormatter\"},\"plot\":{\"id\":\"daf02cd1-2b3b-4ec5-b6af-8606e5deb220\",\"subtype\":\"Figure\",\"type\":\"Plot\"},\"ticker\":{\"id\":\"9916bc13-ad77-46b5-9d18-984a3b010fcc\",\"type\":\"BasicTicker\"}},\"id\":\"c4209bac-423d-4585-a5ef-14e1214a44af\",\"type\":\"LinearAxis\"},{\"attributes\":{\"plot\":{\"id\":\"daf02cd1-2b3b-4ec5-b6af-8606e5deb220\",\"subtype\":\"Figure\",\"type\":\"Plot\"}},\"id\":\"ae53f6fc-643f-490d-94a7-24fb52bc83f2\",\"type\":\"WheelZoomTool\"},{\"attributes\":{\"overlay\":{\"id\":\"503ae942-887c-424a-8625-781c71061899\",\"type\":\"BoxAnnotation\"},\"plot\":{\"id\":\"daf02cd1-2b3b-4ec5-b6af-8606e5deb220\",\"subtype\":\"Figure\",\"type\":\"Plot\"}},\"id\":\"236471ab-5870-4927-ac14-021004f51d25\",\"type\":\"BoxZoomTool\"},{\"attributes\":{\"plot\":{\"id\":\"daf02cd1-2b3b-4ec5-b6af-8606e5deb220\",\"subtype\":\"Figure\",\"type\":\"Plot\"}},\"id\":\"792fd6fe-ea7e-48bf-9540-2cbb663adaf3\",\"type\":\"ResetTool\"},{\"attributes\":{\"axis_label\":\"y\",\"formatter\":{\"id\":\"db39dc53-1589-456c-9ecc-3f5faab57728\",\"type\":\"BasicTickFormatter\"},\"plot\":{\"id\":\"daf02cd1-2b3b-4ec5-b6af-8606e5deb220\",\"subtype\":\"Figure\",\"type\":\"Plot\"},\"ticker\":{\"id\":\"c06439f1-f46a-40c4-810f-539c263528ec\",\"type\":\"BasicTicker\"}},\"id\":\"d8e11d2c-dac7-4fba-8346-2e517675d6f0\",\"type\":\"LinearAxis\"},{\"attributes\":{\"data_source\":{\"id\":\"d875e068-5715-4bc5-bc5f-9c0ff5138c64\",\"type\":\"ColumnDataSource\"},\"glyph\":{\"id\":\"c171b9dc-16ba-4008-8830-03151b5cc6e4\",\"type\":\"Line\"},\"hover_glyph\":null,\"nonselection_glyph\":{\"id\":\"76dab932-9c9a-404f-bed9-2abd55364335\",\"type\":\"Line\"},\"selection_glyph\":null},\"id\":\"335a08e3-1dbc-4300-a579-a079681c9019\",\"type\":\"GlyphRenderer\"},{\"attributes\":{\"bottom_units\":\"screen\",\"fill_alpha\":{\"value\":0.5},\"fill_color\":{\"value\":\"lightgrey\"},\"left_units\":\"screen\",\"level\":\"overlay\",\"line_alpha\":{\"value\":1.0},\"line_color\":{\"value\":\"black\"},\"line_dash\":[4,4],\"line_width\":{\"value\":2},\"plot\":null,\"render_mode\":\"css\",\"right_units\":\"screen\",\"top_units\":\"screen\"},\"id\":\"503ae942-887c-424a-8625-781c71061899\",\"type\":\"BoxAnnotation\"},{\"attributes\":{\"below\":[{\"id\":\"c4209bac-423d-4585-a5ef-14e1214a44af\",\"type\":\"LinearAxis\"}],\"left\":[{\"id\":\"d8e11d2c-dac7-4fba-8346-2e517675d6f0\",\"type\":\"LinearAxis\"}],\"renderers\":[{\"id\":\"c4209bac-423d-4585-a5ef-14e1214a44af\",\"type\":\"LinearAxis\"},{\"id\":\"b245a44a-c72f-41af-9a2a-b00b18507106\",\"type\":\"Grid\"},{\"id\":\"d8e11d2c-dac7-4fba-8346-2e517675d6f0\",\"type\":\"LinearAxis\"},{\"id\":\"613f39fb-882e-40c0-b980-9f4f9a390677\",\"type\":\"Grid\"},{\"id\":\"503ae942-887c-424a-8625-781c71061899\",\"type\":\"BoxAnnotation\"},{\"id\":\"69408600-ebfc-46c4-baab-81906c6fe84b\",\"type\":\"Legend\"},{\"id\":\"335a08e3-1dbc-4300-a579-a079681c9019\",\"type\":\"GlyphRenderer\"},{\"id\":\"2def65a3-f961-42d0-adb0-35da996e0c98\",\"type\":\"GlyphRenderer\"}],\"tool_events\":{\"id\":\"5d716032-3495-4afc-b614-cf6c81479f19\",\"type\":\"ToolEvents\"},\"tools\":[{\"id\":\"75c0c236-199d-4cea-b851-97a5454ea2b1\",\"type\":\"PanTool\"},{\"id\":\"ae53f6fc-643f-490d-94a7-24fb52bc83f2\",\"type\":\"WheelZoomTool\"},{\"id\":\"236471ab-5870-4927-ac14-021004f51d25\",\"type\":\"BoxZoomTool\"},{\"id\":\"e24e4b69-2033-4f50-be9f-85363c3d395e\",\"type\":\"PreviewSaveTool\"},{\"id\":\"2406958b-bff1-4868-86f7-514ce208a8f5\",\"type\":\"ResizeTool\"},{\"id\":\"792fd6fe-ea7e-48bf-9540-2cbb663adaf3\",\"type\":\"ResetTool\"},{\"id\":\"0a9de4b4-8b6d-437f-bd67-db6eaa282ee2\",\"type\":\"HelpTool\"}],\"x_range\":{\"id\":\"747476c3-1f93-493a-bd9b-b3f2189aacd8\",\"type\":\"DataRange1d\"},\"y_range\":{\"id\":\"5b753546-25d9-469a-b717-9636763f4ddd\",\"type\":\"DataRange1d\"}},\"id\":\"daf02cd1-2b3b-4ec5-b6af-8606e5deb220\",\"subtype\":\"Figure\",\"type\":\"Plot\"},{\"attributes\":{\"legends\":[[\"sin(x)\",[{\"id\":\"335a08e3-1dbc-4300-a579-a079681c9019\",\"type\":\"GlyphRenderer\"}]],[\"cos(x)\",[{\"id\":\"2def65a3-f961-42d0-adb0-35da996e0c98\",\"type\":\"GlyphRenderer\"}]]],\"plot\":{\"id\":\"daf02cd1-2b3b-4ec5-b6af-8606e5deb220\",\"subtype\":\"Figure\",\"type\":\"Plot\"}},\"id\":\"69408600-ebfc-46c4-baab-81906c6fe84b\",\"type\":\"Legend\"},{\"attributes\":{},\"id\":\"9916bc13-ad77-46b5-9d18-984a3b010fcc\",\"type\":\"BasicTicker\"},{\"attributes\":{\"callback\":null,\"column_names\":[\"x\",\"y\"],\"data\":{\"x\":[-3.141592653589793,-3.0133643820146996,-2.885136110439606,-2.7569078388645125,-2.628679567289419,-2.500451295714325,-2.3722230241392315,-2.243994752564138,-2.1157664809890444,-1.9875382094139509,-1.8593099378388573,-1.7310816662637636,-1.60285339468867,-1.4746251231135765,-1.3463968515384828,-1.2181685799633892,-1.0899403083882957,-0.9617120368132022,-0.8334837652381086,-0.7052554936630151,-0.5770272220879216,-0.4487989505128276,-0.32057067893773405,-0.19234240736264052,-0.06411413578754699,0.06411413578754654,0.19234240736264008,0.3205706789377336,0.4487989505128276,0.5770272220879211,0.7052554936630147,0.8334837652381082,0.9617120368132017,1.0899403083882957,1.2181685799633888,1.3463968515384828,1.4746251231135759,1.6028533946886698,1.731081666263763,1.859309937838857,1.98753820941395,2.115766480989044,2.243994752564138,2.372223024139231,2.500451295714325,2.628679567289418,2.756907838864512,2.885136110439605,3.013364382014699,3.141592653589793],\"y\":[-1.0,-0.991790013823246,-0.9672948630390295,-0.9269167573460217,-0.8713187041233894,-0.8014136218679565,-0.7183493500977275,-0.6234898018587335,-0.518392568310525,-0.40478334312239383,-0.28452758663103256,-0.15959989503337918,-0.03205157757165521,0.09602302590768166,0.22252093395631445,0.3453650544213076,0.4625382902408352,0.5721166601221696,0.6723008902613167,0.7614459583691342,0.8380881048918405,0.9009688679024191,0.9490557470106686,0.9815591569910653,0.9979453927503363,0.9979453927503363,0.9815591569910654,0.9490557470106687,0.9009688679024191,0.8380881048918407,0.7614459583691345,0.672300890261317,0.5721166601221699,0.4625382902408352,0.34536505442130805,0.22252093395631445,0.09602302590768233,-0.032051577571654985,-0.15959989503337854,-0.2845275866310321,-0.40478334312239306,-0.5183925683105246,-0.6234898018587335,-0.7183493500977272,-0.8014136218679565,-0.871318704123389,-0.9269167573460216,-0.9672948630390292,-0.991790013823246,-1.0]}},\"id\":\"3d71a548-5e31-4ac6-b69d-c7a34158f5ae\",\"type\":\"ColumnDataSource\"},{\"attributes\":{\"line_color\":{\"value\":\"red\"},\"x\":{\"field\":\"x\"},\"y\":{\"field\":\"y\"}},\"id\":\"3003369f-c0f9-438f-acbf-4519aaeaa625\",\"type\":\"Line\"},{\"attributes\":{},\"id\":\"c06439f1-f46a-40c4-810f-539c263528ec\",\"type\":\"BasicTicker\"},{\"attributes\":{\"plot\":{\"id\":\"daf02cd1-2b3b-4ec5-b6af-8606e5deb220\",\"subtype\":\"Figure\",\"type\":\"Plot\"},\"ticker\":{\"id\":\"9916bc13-ad77-46b5-9d18-984a3b010fcc\",\"type\":\"BasicTicker\"}},\"id\":\"b245a44a-c72f-41af-9a2a-b00b18507106\",\"type\":\"Grid\"},{\"attributes\":{\"dimension\":1,\"plot\":{\"id\":\"daf02cd1-2b3b-4ec5-b6af-8606e5deb220\",\"subtype\":\"Figure\",\"type\":\"Plot\"},\"ticker\":{\"id\":\"c06439f1-f46a-40c4-810f-539c263528ec\",\"type\":\"BasicTicker\"}},\"id\":\"613f39fb-882e-40c0-b980-9f4f9a390677\",\"type\":\"Grid\"},{\"attributes\":{\"data_source\":{\"id\":\"3d71a548-5e31-4ac6-b69d-c7a34158f5ae\",\"type\":\"ColumnDataSource\"},\"glyph\":{\"id\":\"3003369f-c0f9-438f-acbf-4519aaeaa625\",\"type\":\"Line\"},\"hover_glyph\":null,\"nonselection_glyph\":{\"id\":\"be495355-0bd3-4fe5-aa56-96f52476d11c\",\"type\":\"Line\"},\"selection_glyph\":null},\"id\":\"2def65a3-f961-42d0-adb0-35da996e0c98\",\"type\":\"GlyphRenderer\"},{\"attributes\":{\"plot\":{\"id\":\"daf02cd1-2b3b-4ec5-b6af-8606e5deb220\",\"subtype\":\"Figure\",\"type\":\"Plot\"}},\"id\":\"2406958b-bff1-4868-86f7-514ce208a8f5\",\"type\":\"ResizeTool\"},{\"attributes\":{\"line_alpha\":{\"value\":0.1},\"line_color\":{\"value\":\"#1f77b4\"},\"x\":{\"field\":\"x\"},\"y\":{\"field\":\"y\"}},\"id\":\"76dab932-9c9a-404f-bed9-2abd55364335\",\"type\":\"Line\"},{\"attributes\":{\"line_color\":{\"value\":\"blue\"},\"x\":{\"field\":\"x\"},\"y\":{\"field\":\"y\"}},\"id\":\"c171b9dc-16ba-4008-8830-03151b5cc6e4\",\"type\":\"Line\"},{\"attributes\":{\"plot\":{\"id\":\"daf02cd1-2b3b-4ec5-b6af-8606e5deb220\",\"subtype\":\"Figure\",\"type\":\"Plot\"}},\"id\":\"e24e4b69-2033-4f50-be9f-85363c3d395e\",\"type\":\"PreviewSaveTool\"},{\"attributes\":{\"line_alpha\":{\"value\":0.1},\"line_color\":{\"value\":\"#1f77b4\"},\"x\":{\"field\":\"x\"},\"y\":{\"field\":\"y\"}},\"id\":\"be495355-0bd3-4fe5-aa56-96f52476d11c\",\"type\":\"Line\"},{\"attributes\":{\"plot\":{\"id\":\"daf02cd1-2b3b-4ec5-b6af-8606e5deb220\",\"subtype\":\"Figure\",\"type\":\"Plot\"}},\"id\":\"0a9de4b4-8b6d-437f-bd67-db6eaa282ee2\",\"type\":\"HelpTool\"},{\"attributes\":{\"callback\":null,\"column_names\":[\"x\",\"y\"],\"data\":{\"x\":[-3.141592653589793,-3.0133643820146996,-2.885136110439606,-2.7569078388645125,-2.628679567289419,-2.500451295714325,-2.3722230241392315,-2.243994752564138,-2.1157664809890444,-1.9875382094139509,-1.8593099378388573,-1.7310816662637636,-1.60285339468867,-1.4746251231135765,-1.3463968515384828,-1.2181685799633892,-1.0899403083882957,-0.9617120368132022,-0.8334837652381086,-0.7052554936630151,-0.5770272220879216,-0.4487989505128276,-0.32057067893773405,-0.19234240736264052,-0.06411413578754699,0.06411413578754654,0.19234240736264008,0.3205706789377336,0.4487989505128276,0.5770272220879211,0.7052554936630147,0.8334837652381082,0.9617120368132017,1.0899403083882957,1.2181685799633888,1.3463968515384828,1.4746251231135759,1.6028533946886698,1.731081666263763,1.859309937838857,1.98753820941395,2.115766480989044,2.243994752564138,2.372223024139231,2.500451295714325,2.628679567289418,2.756907838864512,2.885136110439605,3.013364382014699,3.141592653589793],\"y\":[-1.2246467991473532e-16,-0.12787716168450605,-0.25365458390950735,-0.37526700487937403,-0.49071755200393774,-0.5981105304912161,-0.6956825506034865,-0.7818314824680299,-0.8551427630053462,-0.9144126230158125,-0.9586678530366606,-0.9871817834144502,-0.9994862162006879,-0.9953791129491982,-0.9749279121818236,-0.9384684220497604,-0.8865993063730001,-0.820172254596956,-0.7402779970753157,-0.6482283953077886,-0.5455349012105489,-0.4338837391175581,-0.3151082180236207,-0.19115862870137243,-0.0640702199807131,0.06407021998071266,0.19115862870137199,0.3151082180236203,0.4338837391175581,0.5455349012105486,0.6482283953077883,0.7402779970753154,0.8201722545969558,0.8865993063730001,0.9384684220497602,0.9749279121818236,0.9953791129491981,0.9994862162006879,0.9871817834144503,0.9586678530366607,0.9144126230158128,0.8551427630053464,0.7818314824680299,0.6956825506034868,0.5981105304912161,0.4907175520039385,0.3752670048793745,0.25365458390950824,0.1278771616845065,1.2246467991473532e-16]}},\"id\":\"d875e068-5715-4bc5-bc5f-9c0ff5138c64\",\"type\":\"ColumnDataSource\"},{\"attributes\":{},\"id\":\"db39dc53-1589-456c-9ecc-3f5faab57728\",\"type\":\"BasicTickFormatter\"},{\"attributes\":{},\"id\":\"5d716032-3495-4afc-b614-cf6c81479f19\",\"type\":\"ToolEvents\"},{\"attributes\":{\"callback\":null},\"id\":\"5b753546-25d9-469a-b717-9636763f4ddd\",\"type\":\"DataRange1d\"}],\"root_ids\":[\"daf02cd1-2b3b-4ec5-b6af-8606e5deb220\"]},\"title\":\"Bokeh Application\",\"version\":\"0.11.1\"}};\n",
       "            var render_items = [{\"docid\":\"b74b4be3-e163-4d67-966c-b6b396be559e\",\"elementid\":\"aba07e88-fe51-419d-b8f0-239f5127e01f\",\"modelid\":\"daf02cd1-2b3b-4ec5-b6af-8606e5deb220\",\"notebook_comms_target\":\"815ce6c9-976a-4e76-a8a3-d497ca57ea5c\"}];\n",
       "            \n",
       "            Bokeh.embed.embed_items(docs_json, render_items);\n",
       "        });\n",
       "      },\n",
       "      function(Bokeh) {\n",
       "      }\n",
       "    ];\n",
       "  \n",
       "    function run_inline_js() {\n",
       "      for (var i = 0; i < inline_js.length; i++) {\n",
       "        inline_js[i](window.Bokeh);\n",
       "      }\n",
       "    }\n",
       "  \n",
       "    if (window._bokeh_is_loading === 0) {\n",
       "      console.log(\"Bokeh: BokehJS loaded, going straight to plotting\");\n",
       "      run_inline_js();\n",
       "    } else {\n",
       "      load_libs(js_urls, function() {\n",
       "        console.log(\"Bokeh: BokehJS plotting callback run at\", now());\n",
       "        run_inline_js();\n",
       "      });\n",
       "    }\n",
       "  }(this));\n",
       "</script>"
      ]
     },
     "metadata": {},
     "output_type": "display_data"
    },
    {
     "data": {
      "text/html": [
       "<p><code>&lt;Bokeh Notebook handle for <strong>In[5]</strong>&gt;</code></p>"
      ],
      "text/plain": [
       "<bokeh.io._CommsHandle at 0x7f5adbd70e10>"
      ]
     },
     "execution_count": 5,
     "metadata": {},
     "output_type": "execute_result"
    }
   ],
   "source": [
    "fig = bkh.figure()\n",
    "fig.line(xs, ys[0], legend='sin(x)', line_color='blue')\n",
    "fig.line(xs, ys[1], legend='cos(x)', line_color='red')\n",
    "fig.xaxis.axis_label = 'x'\n",
    "fig.yaxis.axis_label = 'y'\n",
    "bkh.show(fig)"
   ]
  },
  {
   "cell_type": "code",
   "execution_count": null,
   "metadata": {
    "collapsed": true
   },
   "outputs": [],
   "source": []
  }
 ],
 "metadata": {
  "kernelspec": {
   "display_name": "Python 3",
   "language": "python",
   "name": "python3"
  },
  "language_info": {
   "codemirror_mode": {
    "name": "ipython",
    "version": 3
   },
   "file_extension": ".py",
   "mimetype": "text/x-python",
   "name": "python",
   "nbconvert_exporter": "python",
   "pygments_lexer": "ipython3",
   "version": "3.4.4"
  }
 },
 "nbformat": 4,
 "nbformat_minor": 2
}
