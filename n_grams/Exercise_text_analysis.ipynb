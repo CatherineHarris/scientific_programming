{
 "cells": [
  {
   "cell_type": "markdown",
   "metadata": {
    "slideshow": {
     "slide_type": "slide"
    }
   },
   "source": [
    "# Exercise: Text analysis\n",
    "\n",
    "In this exercise, we will look at a python class that performs a analysis on a given text. The code as it is appears to run fine for a few 'normal' cases, however as it is untested it is likely that it will not do so well for all input data. \n",
    "\n",
    "Your task is to design a set of tests that ensure the code functions correctly for all possible input data. It should be able to deal with edge cases and suitably fail (e.g. terminate with an exception) for invalid data. "
   ]
  },
  {
   "cell_type": "markdown",
   "metadata": {
    "slideshow": {
     "slide_type": "subslide"
    }
   },
   "source": [
    "When designing your tests, have in mind the following:\n",
    "* What range of cases should the code be able to deal with? \n",
    "* How should the code deal with edge cases?\n",
    "* What should the code do if it encounters invalid input data?\n",
    "* Even for valid input data, does the code always give the same output or is there some randomness? If so, how can the tests be designed to deal with that?\n",
    "\n",
    "\n",
    "A few examples of 'normal' cases have been given. You may wish to create some more input data for running your tests in order to cover the full range of valid input data (and to test the code fails for invalid input data)."
   ]
  },
  {
   "cell_type": "code",
   "execution_count": 1,
   "metadata": {
    "collapsed": false,
    "slideshow": {
     "slide_type": "subslide"
    }
   },
   "outputs": [],
   "source": [
    "import n_grams"
   ]
  },
  {
   "cell_type": "code",
   "execution_count": 4,
   "metadata": {
    "collapsed": false,
    "slideshow": {
     "slide_type": "fragment"
    }
   },
   "outputs": [
    {
     "name": "stdout",
     "output_type": "stream",
     "text": [
      "\n",
      "There are 7480 words in the text.\n",
      "\n",
      "Mean, median and mode word length is 3.536363636363636, 3.0, 3.\n",
      "\n",
      "10 longest words:\n",
      "jumblies\n",
      "friends\n",
      "winters\n",
      "drowned\n",
      "button\n",
      "called\n",
      "turned\n",
      "stormy\n",
      "lands\n",
      "round\n",
      "\n",
      "Most common words:\n",
      "476 x sieve\n",
      "408 x they\n",
      "340 x sea\n",
      "272 x went\n",
      "204 x are\n",
      "204 x their\n",
      "136 x round\n",
      "136 x all\n",
      "136 x far\n",
      "136 x dont\n",
      "\n",
      "Longest n-grams:\n",
      "68 x went to sea in a sieve they did in a sieve they went to sea in spite of all their friends could say on a winters morn on a stormy day in a sieve they went to sea and when the sieve turned round and round and every one cried\n",
      "68 x sieve they did in a sieve they went to sea in spite of all their friends could say on a winters morn on a stormy day in a sieve they went to sea and when the sieve turned round and round and every one cried youll all be drowned they\n",
      "68 x and every one cried youll all be drowned they called aloud our sieve aint big but we dont care a button we dont care a fig in a sieve well go to sea far and few far and few are the lands where the jumblies live their heads are green\n",
      "68 x sea in spite of all their friends could say on a winters morn on a stormy day in a sieve they went to sea and when the sieve turned round and round and every one cried youll all be drowned they called aloud our sieve aint big but we dont\n",
      "68 x spite of all their friends could say on a winters morn on a stormy day in a sieve they went to sea and when the sieve turned round and round and every one cried youll all be drowned they called aloud our sieve aint big but we dont care a\n",
      "68 x all their friends could say on a winters morn on a stormy day in a sieve they went to sea and when the sieve turned round and round and every one cried youll all be drowned they called aloud our sieve aint big but we dont care a button we\n",
      "68 x in a sieve they went to sea and when the sieve turned round and round and every one cried youll all be drowned they called aloud our sieve aint big but we dont care a button we dont care a fig in a sieve well go to sea far and\n",
      "68 x did in a sieve they went to sea in spite of all their friends could say on a winters morn on a stormy day in a sieve they went to sea and when the sieve turned round and round and every one cried youll all be drowned they called aloud\n",
      "68 x they called aloud our sieve aint big but we dont care a button we dont care a fig in a sieve well go to sea far and few far and few are the lands where the jumblies live their heads are green and their hands are blue and they went\n",
      "68 x to sea and when the sieve turned round and round and every one cried youll all be drowned they called aloud our sieve aint big but we dont care a button we dont care a fig in a sieve well go to sea far and few far and few are\n",
      "68 x to sea in a sieve they did in a sieve they went to sea in spite of all their friends could say on a winters morn on a stormy day in a sieve they went to sea and when the sieve turned round and round and every one cried youll\n",
      "68 x and round and every one cried youll all be drowned they called aloud our sieve aint big but we dont care a button we dont care a fig in a sieve well go to sea far and few far and few are the lands where the jumblies live their heads\n",
      "68 x turned round and round and every one cried youll all be drowned they called aloud our sieve aint big but we dont care a button we dont care a fig in a sieve well go to sea far and few far and few are the lands where the jumblies live\n",
      "68 x drowned they called aloud our sieve aint big but we dont care a button we dont care a fig in a sieve well go to sea far and few far and few are the lands where the jumblies live their heads are green and their hands are blue and they\n",
      "68 x when the sieve turned round and round and every one cried youll all be drowned they called aloud our sieve aint big but we dont care a button we dont care a fig in a sieve well go to sea far and few far and few are the lands where\n",
      "68 x they went to sea in a sieve they did in a sieve they went to sea in spite of all their friends could say on a winters morn on a stormy day in a sieve they went to sea and when the sieve turned round and round and every one\n",
      "68 x went to sea in spite of all their friends could say on a winters morn on a stormy day in a sieve they went to sea and when the sieve turned round and round and every one cried youll all be drowned they called aloud our sieve aint big but\n",
      "68 x a sieve they did in a sieve they went to sea in spite of all their friends could say on a winters morn on a stormy day in a sieve they went to sea and when the sieve turned round and round and every one cried youll all be drowned\n",
      "68 x youll all be drowned they called aloud our sieve aint big but we dont care a button we dont care a fig in a sieve well go to sea far and few far and few are the lands where the jumblies live their heads are green and their hands are\n",
      "68 x of all their friends could say on a winters morn on a stormy day in a sieve they went to sea and when the sieve turned round and round and every one cried youll all be drowned they called aloud our sieve aint big but we dont care a button\n",
      "68 x stormy day in a sieve they went to sea and when the sieve turned round and round and every one cried youll all be drowned they called aloud our sieve aint big but we dont care a button we dont care a fig in a sieve well go to sea\n",
      "68 x every one cried youll all be drowned they called aloud our sieve aint big but we dont care a button we dont care a fig in a sieve well go to sea far and few far and few are the lands where the jumblies live their heads are green and\n",
      "68 x in a sieve they did in a sieve they went to sea in spite of all their friends could say on a winters morn on a stormy day in a sieve they went to sea and when the sieve turned round and round and every one cried youll all be\n",
      "68 x winters morn on a stormy day in a sieve they went to sea and when the sieve turned round and round and every one cried youll all be drowned they called aloud our sieve aint big but we dont care a button we dont care a fig in a sieve\n",
      "68 x say on a winters morn on a stormy day in a sieve they went to sea and when the sieve turned round and round and every one cried youll all be drowned they called aloud our sieve aint big but we dont care a button we dont care a fig\n",
      "68 x they did in a sieve they went to sea in spite of all their friends could say on a winters morn on a stormy day in a sieve they went to sea and when the sieve turned round and round and every one cried youll all be drowned they called\n",
      "68 x to sea in spite of all their friends could say on a winters morn on a stormy day in a sieve they went to sea and when the sieve turned round and round and every one cried youll all be drowned they called aloud our sieve aint big but we\n",
      "68 x sieve they went to sea in spite of all their friends could say on a winters morn on a stormy day in a sieve they went to sea and when the sieve turned round and round and every one cried youll all be drowned they called aloud our sieve aint\n",
      "68 x the sieve turned round and round and every one cried youll all be drowned they called aloud our sieve aint big but we dont care a button we dont care a fig in a sieve well go to sea far and few far and few are the lands where the\n",
      "68 x on a stormy day in a sieve they went to sea and when the sieve turned round and round and every one cried youll all be drowned they called aloud our sieve aint big but we dont care a button we dont care a fig in a sieve well go\n",
      "68 x cried youll all be drowned they called aloud our sieve aint big but we dont care a button we dont care a fig in a sieve well go to sea far and few far and few are the lands where the jumblies live their heads are green and their hands\n",
      "68 x morn on a stormy day in a sieve they went to sea and when the sieve turned round and round and every one cried youll all be drowned they called aloud our sieve aint big but we dont care a button we dont care a fig in a sieve well\n",
      "68 x be drowned they called aloud our sieve aint big but we dont care a button we dont care a fig in a sieve well go to sea far and few far and few are the lands where the jumblies live their heads are green and their hands are blue and\n",
      "68 x went to sea and when the sieve turned round and round and every one cried youll all be drowned they called aloud our sieve aint big but we dont care a button we dont care a fig in a sieve well go to sea far and few far and few\n",
      "68 x aint big but we dont care a button we dont care a fig in a sieve well go to sea far and few far and few are the lands where the jumblies live their heads are green and their hands are blue and they went to sea in a sieve\n",
      "68 x sea and when the sieve turned round and round and every one cried youll all be drowned they called aloud our sieve aint big but we dont care a button we dont care a fig in a sieve well go to sea far and few far and few are the\n",
      "68 x aloud our sieve aint big but we dont care a button we dont care a fig in a sieve well go to sea far and few far and few are the lands where the jumblies live their heads are green and their hands are blue and they went to sea\n",
      "68 x sea in a sieve they did in a sieve they went to sea in spite of all their friends could say on a winters morn on a stormy day in a sieve they went to sea and when the sieve turned round and round and every one cried youll all\n",
      "68 x on a winters morn on a stormy day in a sieve they went to sea and when the sieve turned round and round and every one cried youll all be drowned they called aloud our sieve aint big but we dont care a button we dont care a fig in\n",
      "68 x sieve aint big but we dont care a button we dont care a fig in a sieve well go to sea far and few far and few are the lands where the jumblies live their heads are green and their hands are blue and they went to sea in a\n",
      "68 x they went to sea in spite of all their friends could say on a winters morn on a stormy day in a sieve they went to sea and when the sieve turned round and round and every one cried youll all be drowned they called aloud our sieve aint big\n",
      "68 x round and every one cried youll all be drowned they called aloud our sieve aint big but we dont care a button we dont care a fig in a sieve well go to sea far and few far and few are the lands where the jumblies live their heads are\n",
      "68 x day in a sieve they went to sea and when the sieve turned round and round and every one cried youll all be drowned they called aloud our sieve aint big but we dont care a button we dont care a fig in a sieve well go to sea far\n",
      "68 x their friends could say on a winters morn on a stormy day in a sieve they went to sea and when the sieve turned round and round and every one cried youll all be drowned they called aloud our sieve aint big but we dont care a button we dont\n",
      "68 x in a sieve they went to sea in spite of all their friends could say on a winters morn on a stormy day in a sieve they went to sea and when the sieve turned round and round and every one cried youll all be drowned they called aloud our\n",
      "68 x could say on a winters morn on a stormy day in a sieve they went to sea and when the sieve turned round and round and every one cried youll all be drowned they called aloud our sieve aint big but we dont care a button we dont care a\n",
      "68 x sieve turned round and round and every one cried youll all be drowned they called aloud our sieve aint big but we dont care a button we dont care a fig in a sieve well go to sea far and few far and few are the lands where the jumblies\n",
      "68 x our sieve aint big but we dont care a button we dont care a fig in a sieve well go to sea far and few far and few are the lands where the jumblies live their heads are green and their hands are blue and they went to sea in\n",
      "68 x all be drowned they called aloud our sieve aint big but we dont care a button we dont care a fig in a sieve well go to sea far and few far and few are the lands where the jumblies live their heads are green and their hands are blue\n",
      "68 x a sieve they went to sea in spite of all their friends could say on a winters morn on a stormy day in a sieve they went to sea and when the sieve turned round and round and every one cried youll all be drowned they called aloud our sieve\n",
      "68 x one cried youll all be drowned they called aloud our sieve aint big but we dont care a button we dont care a fig in a sieve well go to sea far and few far and few are the lands where the jumblies live their heads are green and their\n",
      "68 x a sieve they went to sea and when the sieve turned round and round and every one cried youll all be drowned they called aloud our sieve aint big but we dont care a button we dont care a fig in a sieve well go to sea far and few\n",
      "68 x and when the sieve turned round and round and every one cried youll all be drowned they called aloud our sieve aint big but we dont care a button we dont care a fig in a sieve well go to sea far and few far and few are the lands\n",
      "68 x they went to sea and when the sieve turned round and round and every one cried youll all be drowned they called aloud our sieve aint big but we dont care a button we dont care a fig in a sieve well go to sea far and few far and\n",
      "68 x friends could say on a winters morn on a stormy day in a sieve they went to sea and when the sieve turned round and round and every one cried youll all be drowned they called aloud our sieve aint big but we dont care a button we dont care\n",
      "68 x round and round and every one cried youll all be drowned they called aloud our sieve aint big but we dont care a button we dont care a fig in a sieve well go to sea far and few far and few are the lands where the jumblies live their\n",
      "68 x a winters morn on a stormy day in a sieve they went to sea and when the sieve turned round and round and every one cried youll all be drowned they called aloud our sieve aint big but we dont care a button we dont care a fig in a\n",
      "68 x sieve they went to sea and when the sieve turned round and round and every one cried youll all be drowned they called aloud our sieve aint big but we dont care a button we dont care a fig in a sieve well go to sea far and few far\n",
      "68 x called aloud our sieve aint big but we dont care a button we dont care a fig in a sieve well go to sea far and few far and few are the lands where the jumblies live their heads are green and their hands are blue and they went to\n",
      "68 x a stormy day in a sieve they went to sea and when the sieve turned round and round and every one cried youll all be drowned they called aloud our sieve aint big but we dont care a button we dont care a fig in a sieve well go to\n",
      "68 x in spite of all their friends could say on a winters morn on a stormy day in a sieve they went to sea and when the sieve turned round and round and every one cried youll all be drowned they called aloud our sieve aint big but we dont care\n",
      "67 x and their hands are blue and they went to sea in a sieve they went to sea in a sieve they did in a sieve they went to sea in spite of all their friends could say on a winters morn on a stormy day in a sieve they went\n",
      "67 x a sieve well go to sea far and few far and few are the lands where the jumblies live their heads are green and their hands are blue and they went to sea in a sieve they went to sea in a sieve they did in a sieve they went\n",
      "67 x well go to sea far and few far and few are the lands where the jumblies live their heads are green and their hands are blue and they went to sea in a sieve they went to sea in a sieve they did in a sieve they went to sea\n",
      "67 x dont care a fig in a sieve well go to sea far and few far and few are the lands where the jumblies live their heads are green and their hands are blue and they went to sea in a sieve they went to sea in a sieve they did\n",
      "67 x green and their hands are blue and they went to sea in a sieve they went to sea in a sieve they did in a sieve they went to sea in spite of all their friends could say on a winters morn on a stormy day in a sieve they\n",
      "67 x but we dont care a button we dont care a fig in a sieve well go to sea far and few far and few are the lands where the jumblies live their heads are green and their hands are blue and they went to sea in a sieve they went\n",
      "67 x we dont care a fig in a sieve well go to sea far and few far and few are the lands where the jumblies live their heads are green and their hands are blue and they went to sea in a sieve they went to sea in a sieve they\n",
      "67 x their heads are green and their hands are blue and they went to sea in a sieve they went to sea in a sieve they did in a sieve they went to sea in spite of all their friends could say on a winters morn on a stormy day in\n",
      "67 x live their heads are green and their hands are blue and they went to sea in a sieve they went to sea in a sieve they did in a sieve they went to sea in spite of all their friends could say on a winters morn on a stormy day\n",
      "67 x sea far and few far and few are the lands where the jumblies live their heads are green and their hands are blue and they went to sea in a sieve they went to sea in a sieve they did in a sieve they went to sea in spite of\n",
      "67 x dont care a button we dont care a fig in a sieve well go to sea far and few far and few are the lands where the jumblies live their heads are green and their hands are blue and they went to sea in a sieve they went to sea\n",
      "67 x are green and their hands are blue and they went to sea in a sieve they went to sea in a sieve they did in a sieve they went to sea in spite of all their friends could say on a winters morn on a stormy day in a sieve\n",
      "67 x in a sieve they went to sea in a sieve they did in a sieve they went to sea in spite of all their friends could say on a winters morn on a stormy day in a sieve they went to sea and when the sieve turned round and round\n",
      "67 x the jumblies live their heads are green and their hands are blue and they went to sea in a sieve they went to sea in a sieve they did in a sieve they went to sea in spite of all their friends could say on a winters morn on a\n",
      "67 x jumblies live their heads are green and their hands are blue and they went to sea in a sieve they went to sea in a sieve they did in a sieve they went to sea in spite of all their friends could say on a winters morn on a stormy\n",
      "67 x a sieve they went to sea in a sieve they did in a sieve they went to sea in spite of all their friends could say on a winters morn on a stormy day in a sieve they went to sea and when the sieve turned round and round and\n",
      "67 x sieve well go to sea far and few far and few are the lands where the jumblies live their heads are green and their hands are blue and they went to sea in a sieve they went to sea in a sieve they did in a sieve they went to\n",
      "67 x sieve they went to sea in a sieve they did in a sieve they went to sea in spite of all their friends could say on a winters morn on a stormy day in a sieve they went to sea and when the sieve turned round and round and every\n",
      "67 x hands are blue and they went to sea in a sieve they went to sea in a sieve they did in a sieve they went to sea in spite of all their friends could say on a winters morn on a stormy day in a sieve they went to sea\n",
      "67 x we dont care a button we dont care a fig in a sieve well go to sea far and few far and few are the lands where the jumblies live their heads are green and their hands are blue and they went to sea in a sieve they went to\n",
      "67 x to sea in a sieve they went to sea in a sieve they did in a sieve they went to sea in spite of all their friends could say on a winters morn on a stormy day in a sieve they went to sea and when the sieve turned round\n",
      "67 x care a fig in a sieve well go to sea far and few far and few are the lands where the jumblies live their heads are green and their hands are blue and they went to sea in a sieve they went to sea in a sieve they did in\n",
      "67 x far and few are the lands where the jumblies live their heads are green and their hands are blue and they went to sea in a sieve they went to sea in a sieve they did in a sieve they went to sea in spite of all their friends could\n",
      "67 x few far and few are the lands where the jumblies live their heads are green and their hands are blue and they went to sea in a sieve they went to sea in a sieve they did in a sieve they went to sea in spite of all their friends\n",
      "67 x in a sieve well go to sea far and few far and few are the lands where the jumblies live their heads are green and their hands are blue and they went to sea in a sieve they went to sea in a sieve they did in a sieve they\n",
      "67 x their hands are blue and they went to sea in a sieve they went to sea in a sieve they did in a sieve they went to sea in spite of all their friends could say on a winters morn on a stormy day in a sieve they went to\n",
      "67 x lands where the jumblies live their heads are green and their hands are blue and they went to sea in a sieve they went to sea in a sieve they did in a sieve they went to sea in spite of all their friends could say on a winters morn\n",
      "67 x blue and they went to sea in a sieve they went to sea in a sieve they did in a sieve they went to sea in spite of all their friends could say on a winters morn on a stormy day in a sieve they went to sea and when\n",
      "67 x far and few far and few are the lands where the jumblies live their heads are green and their hands are blue and they went to sea in a sieve they went to sea in a sieve they did in a sieve they went to sea in spite of all\n",
      "67 x go to sea far and few far and few are the lands where the jumblies live their heads are green and their hands are blue and they went to sea in a sieve they went to sea in a sieve they did in a sieve they went to sea in\n",
      "67 x and few are the lands where the jumblies live their heads are green and their hands are blue and they went to sea in a sieve they went to sea in a sieve they did in a sieve they went to sea in spite of all their friends could say\n",
      "67 x big but we dont care a button we dont care a fig in a sieve well go to sea far and few far and few are the lands where the jumblies live their heads are green and their hands are blue and they went to sea in a sieve they\n",
      "67 x they went to sea in a sieve they went to sea in a sieve they did in a sieve they went to sea in spite of all their friends could say on a winters morn on a stormy day in a sieve they went to sea and when the sieve\n",
      "67 x are the lands where the jumblies live their heads are green and their hands are blue and they went to sea in a sieve they went to sea in a sieve they did in a sieve they went to sea in spite of all their friends could say on a\n",
      "67 x heads are green and their hands are blue and they went to sea in a sieve they went to sea in a sieve they did in a sieve they went to sea in spite of all their friends could say on a winters morn on a stormy day in a\n",
      "67 x to sea far and few far and few are the lands where the jumblies live their heads are green and their hands are blue and they went to sea in a sieve they went to sea in a sieve they did in a sieve they went to sea in spite\n",
      "67 x few are the lands where the jumblies live their heads are green and their hands are blue and they went to sea in a sieve they went to sea in a sieve they did in a sieve they went to sea in spite of all their friends could say on\n",
      "67 x fig in a sieve well go to sea far and few far and few are the lands where the jumblies live their heads are green and their hands are blue and they went to sea in a sieve they went to sea in a sieve they did in a sieve\n",
      "67 x a fig in a sieve well go to sea far and few far and few are the lands where the jumblies live their heads are green and their hands are blue and they went to sea in a sieve they went to sea in a sieve they did in a\n",
      "67 x button we dont care a fig in a sieve well go to sea far and few far and few are the lands where the jumblies live their heads are green and their hands are blue and they went to sea in a sieve they went to sea in a sieve\n",
      "67 x sea in a sieve they went to sea in a sieve they did in a sieve they went to sea in spite of all their friends could say on a winters morn on a stormy day in a sieve they went to sea and when the sieve turned round and\n",
      "67 x the lands where the jumblies live their heads are green and their hands are blue and they went to sea in a sieve they went to sea in a sieve they did in a sieve they went to sea in spite of all their friends could say on a winters\n",
      "67 x are blue and they went to sea in a sieve they went to sea in a sieve they did in a sieve they went to sea in spite of all their friends could say on a winters morn on a stormy day in a sieve they went to sea and\n",
      "67 x where the jumblies live their heads are green and their hands are blue and they went to sea in a sieve they went to sea in a sieve they did in a sieve they went to sea in spite of all their friends could say on a winters morn on\n",
      "67 x and they went to sea in a sieve they went to sea in a sieve they did in a sieve they went to sea in spite of all their friends could say on a winters morn on a stormy day in a sieve they went to sea and when the\n",
      "67 x went to sea in a sieve they went to sea in a sieve they did in a sieve they went to sea in spite of all their friends could say on a winters morn on a stormy day in a sieve they went to sea and when the sieve turned\n",
      "67 x a button we dont care a fig in a sieve well go to sea far and few far and few are the lands where the jumblies live their heads are green and their hands are blue and they went to sea in a sieve they went to sea in a\n",
      "67 x care a button we dont care a fig in a sieve well go to sea far and few far and few are the lands where the jumblies live their heads are green and their hands are blue and they went to sea in a sieve they went to sea in\n",
      "67 x and few far and few are the lands where the jumblies live their heads are green and their hands are blue and they went to sea in a sieve they went to sea in a sieve they did in a sieve they went to sea in spite of all their\n",
      "\n",
      "\n"
     ]
    }
   ],
   "source": [
    "files = {\"alice\": \"http://www.gutenberg.org/files/11/11-0.txt\", \n",
    "         \"dracula\": \"http://www.gutenberg.org/ebooks/345.txt.utf-8\",\n",
    "         \"sherlock\": \"http://www.gutenberg.org/ebooks/1661.txt.utf-8\",\n",
    "         \"poe\": \"the_raven.txt\"}\n",
    "\n",
    "txt = n_grams.Text(\"repeat.txt\")\n",
    "txt.text_report()"
   ]
  },
  {
   "cell_type": "markdown",
   "metadata": {
    "slideshow": {
     "slide_type": "slide"
    }
   },
   "source": [
    "## Tests to make the code fail\n",
    "\n",
    "* `blank.txt` - a blank text file. The code has nothing to stop it dividing by zero when it calculates mean word length.\n",
    "* `repeat.txt` - this repeats the first verse of the Edward Lear poem *The Jumblies* 68 times. The longest n-gram function only looks for n-grams 50 words or shorter, so fails to spot this and instead slices up the poem. There are a couple of ways to deal with this. One would be that if the code finds an n-gram of length 50, check to see if this is a substring of a longer one until no longer find n-grams. Alternatively, could start looking for n-grams of length 2 and increase until no more are found, then eliminate substrings.\n",
    "* `http://www.gutenberg.org/ebooks/844.epub.images?session_id=0fa3233ff1abe287d4a1ce534e052624dc702aec` - this is an EPUB file, so the code will not be able to read it\n",
    "* Longest words and n-grams are both stored in dictionaries, so the in which these are printed will often vary between runs. Care should be taken when designing tests to account for this!\n",
    "* `short.txt` - Length of file is only 5 words, so when code prints out '10 longest words', it only actually prints out 5. This is a minor error, but nonetheless is not correct behaviour.\n",
    "* `nile.csv` - this is just a load of numbers, so results are pretty meaningless. Code should really check it's looking at an actual text file."
   ]
  }
 ],
 "metadata": {
  "celltoolbar": "Raw Cell Format",
  "kernelspec": {
   "display_name": "Python 3",
   "language": "python",
   "name": "python3"
  },
  "language_info": {
   "codemirror_mode": {
    "name": "ipython",
    "version": 3
   },
   "file_extension": ".py",
   "mimetype": "text/x-python",
   "name": "python",
   "nbconvert_exporter": "python",
   "pygments_lexer": "ipython3",
   "version": "3.4.4"
  },
  "livereveal": {
   "height": 768,
   "width": 1224
  }
 },
 "nbformat": 4,
 "nbformat_minor": 0
}
