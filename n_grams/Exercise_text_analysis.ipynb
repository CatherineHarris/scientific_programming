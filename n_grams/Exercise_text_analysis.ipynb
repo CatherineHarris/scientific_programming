{
 "cells": [
  {
   "cell_type": "markdown",
   "metadata": {},
   "source": [
    "# Exercise: Text analysis\n",
    "\n",
    "In this exercise, we will look at a python class that performs a analysis on a given text. The code as it is appears to run fine for a few 'normal' cases, however as it is untested it is likely that it will not do so well for all input data. \n",
    "\n",
    "Your task is to design a set of tests that ensure the code functions correctly for all possible input data. It should be able to deal with edge cases and suitably fail (e.g. terminate with an exception) for invalid data. \n",
    "\n",
    "When designing your tests, have in mind the following:\n",
    "* What range of cases should the code be able to deal with? \n",
    "* How should the code deal with edge cases?\n",
    "* What should the code do if it encounters invalid input data?\n",
    "* Even for valid input data, does the code always give the same output or is there some randomness? If so, how can the tests be designed to deal with that?\n",
    "\n",
    "\n",
    "A few examples of 'normal' cases have been given. You may wish to create some more input data for running your tests in order to cover the full range of valid input data (and to test the code fails for invalid input data)."
   ]
  },
  {
   "cell_type": "code",
   "execution_count": 3,
   "metadata": {
    "collapsed": false
   },
   "outputs": [],
   "source": [
    "import n_grams"
   ]
  },
  {
   "cell_type": "code",
   "execution_count": 11,
   "metadata": {
    "collapsed": false
   },
   "outputs": [
    {
     "name": "stdout",
     "output_type": "stream",
     "text": [
      "\n",
      "There are 1093 words in the text.\n",
      "\n",
      "Mean, median and mode word length is 4.463860933211345, 4, 4.\n",
      "\n",
      "10 longest words:\n",
      "countenance\n",
      "forgiveness\n",
      "unmerciful\n",
      "entreating\n",
      "hesitating\n",
      "expressing\n",
      "sculptured\n",
      "distinctly\n",
      "melancholy\n",
      "loneliness\n",
      "\n",
      "Most common words:\n",
      "17 x this\n",
      "14 x door\n",
      "11 x chamber\n",
      "11 x nevermore\n",
      "11 x raven\n",
      "10 x bird\n",
      "8 x with\n",
      "8 x from\n",
      "8 x more\n",
      "8 x then\n",
      "\n",
      "Longest n-grams:\n",
      "5 x quoth the raven nevermore\n",
      "5 x at my chamber door\n",
      "6 x and nothing more\n",
      "7 x on the\n",
      "6 x and the\n",
      "5 x said i\n",
      "\n",
      "\n"
     ]
    }
   ],
   "source": [
    "files = {\"alice\": \"http://www.gutenberg.org/files/11/11-0.txt\", \n",
    "         \"dracula\": \"http://www.gutenberg.org/ebooks/345.txt.utf-8\",\n",
    "         \"sherlock\": \"http://www.gutenberg.org/ebooks/1661.txt.utf-8\",\n",
    "         \"poe\": \"the_raven.txt\"}\n",
    "\n",
    "txt = Text(files[\"poe\"])\n",
    "\n",
    "txt.text_report()"
   ]
  },
  {
   "cell_type": "markdown",
   "metadata": {},
   "source": [
    "## Tests to make the code fail\n",
    "\n",
    "* `blank.txt` - a blank text file. The code has nothing to stop it dividing by zero when it calculates mean word length.\n",
    "* `repeat.txt` - this repeats the first verse of the Edward Lear poem *The Jumblies* 68 times. The longest n-gram function only looks for n-grams 50 words or shorter, so fails to spot this and instead slices up the poem. There are a couple of ways to deal with this. One would be that if the code finds an n-gram of length 50, check to see if this is a substring of a longer one until no longer find n-grams. Alternatively, could start looking for n-grams of length 2 and increase until no more are found, then eliminate substrings.\n",
    "* `http://www.gutenberg.org/ebooks/844.epub.images?session_id=0fa3233ff1abe287d4a1ce534e052624dc702aec` - this is an EPUB file, so the code will not be able to read it\n",
    "* Longest words and n-grams are both stored in dictionaries, so the in which these are printed will often vary between runs. Care should be taken when designing tests to account for this!\n",
    "* `short.txt` - Length of file is only 5 words, so when code prints out '10 longest words', it only actually prints out 5. This is a minor error, but nonetheless is not correct behaviour.\n",
    "* `nile.csv` - this is just a load of numbers, so results are pretty meaningless. Code should really check it's looking at an actual text file."
   ]
  },
  {
   "cell_type": "code",
   "execution_count": null,
   "metadata": {
    "collapsed": true
   },
   "outputs": [],
   "source": []
  }
 ],
 "metadata": {
  "kernelspec": {
   "display_name": "Python 3",
   "language": "python",
   "name": "python3"
  },
  "language_info": {
   "codemirror_mode": {
    "name": "ipython",
    "version": 3
   },
   "file_extension": ".py",
   "mimetype": "text/x-python",
   "name": "python",
   "nbconvert_exporter": "python",
   "pygments_lexer": "ipython3",
   "version": "3.4.4"
  }
 },
 "nbformat": 4,
 "nbformat_minor": 0
}
