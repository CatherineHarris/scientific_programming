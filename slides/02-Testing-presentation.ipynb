{
 "cells": [
  {
   "cell_type": "code",
   "execution_count": 3,
   "metadata": {},
   "outputs": [
    {
     "data": {
      "text/html": [
       "<link href='http://fonts.googleapis.com/css?family=Open+Sans:100,300,400,500,700,800,900,100italic,300italic,400italic,500italic,700italic,800italic,900italic' rel='stylesheet' type='text/css'>\n",
       "<link href='http://fonts.googleapis.com/css?family=Merriweather:400,700,400italic' rel='stylesheet' type='text/css'>\n",
       "<link href='http://fonts.googleapis.com/css?family=Inconsolata' rel='stylesheet' type='text/css'>\n",
       "<style>\n",
       "\n",
       "@font-face {\n",
       "    font-family: \"Computer Modern\";\n",
       "    src: url('http://mirrors.ctan.org/fonts/cm-unicode/fonts/otf/cmunss.otf');\n",
       "}\n",
       "\n",
       "#notebook_panel { /* main background */\n",
       "    background: rgb(245,245,245);\n",
       "}\n",
       "\n",
       "div #notebook { /* centre the content */\n",
       "    background: #fff; /* white background for content */\n",
       "}\n",
       "\n",
       "\n",
       "div.text_cell_render{\n",
       "    font-family: 'Open Sans', sans-serif;\n",
       "}\n",
       "\n",
       "\n",
       "/* Formatting for header cells */\n",
       ".text_cell_render h1 {\n",
       "    font-family: 'Merriweather', serif;\n",
       "    font-style: regular;\n",
       "    font-weight: 400;\n",
       "    color: rgb(36,67,87);\n",
       "    margin-bottom: 0.5em;\n",
       "    margin-top: 0.5em;\n",
       "    display: block;\n",
       "}\n",
       ".text_cell_render h2 {\n",
       "    font-family: 'Merriweather', serif;\n",
       "    font-weight: 400;\n",
       "    line-height: 100%;\n",
       "    color: rgb(36,67,87);\n",
       "    margin-bottom: 0.3em;\n",
       "    margin-top: 0.3em;\n",
       "    display: block;\n",
       "}\n",
       "\n",
       ".text_cell_render h3 {\n",
       "    font-family: 'Merriweather', serif;\n",
       "    margin-top:1em;\n",
       "    font-weight: 400;\n",
       "    margin-bottom: 0.3em;\n",
       "    font-style: regular;\n",
       "    color: rgb(85, 111, 127);\n",
       "}\n",
       "\n",
       ".text_cell_render h4 {\n",
       "    font-family: 'Inconsolata', monospace;\n",
       "    margin-top: 0.3em;\n",
       "    margin-bottom: 0.5em;\n",
       "    font-style: regular;\n",
       "    color: rgb(85, 111, 127);\n",
       "}\n",
       "\n",
       ".text_cell_render h5 {  /*Captions*/\n",
       "    font-family: 'Merriweather', serif;\n",
       "    font-weight: 400;\n",
       "    color: rgb(85, 111, 127);\n",
       "    font-style: regular;\n",
       "    margin-bottom: .1em;\n",
       "    margin-top: 0.8em;\n",
       "    display: block;\n",
       "    text-align: center;\n",
       "}\n",
       "\n",
       ".text_cell_render h6 { /*use this for copyright note*/\n",
       "    font-family: 'Inconsolata', sans-serif;\n",
       "    font-weight: 300;\n",
       "    line-height: 100%;\n",
       "    color: grey;\n",
       "    margin-bottom: 1px;\n",
       "    margin-top: 1px;\n",
       "}\n",
       "\n",
       "\n",
       "</style>\n",
       "<script>\n",
       "    MathJax.Hub.Config({\n",
       "                        TeX: {\n",
       "                           extensions: [\"AMSmath.js\"],\n",
       "                           equationNumbers: { autoNumber: \"AMS\", useLabelIds: true}\n",
       "                           },\n",
       "                tex2jax: {\n",
       "                    inlineMath: [ ['$','$'], [\"\\\\(\",\"\\\\)\"] ],\n",
       "                    displayMath: [ ['$$','$$'], [\"\\\\[\",\"\\\\]\"] ]\n",
       "                },\n",
       "                displayAlign: 'center', // Change this to 'center' to center equations.\n",
       "                \"HTML-CSS\": {\n",
       "                    styles: {'.MathJax_Display': {\"margin\": 4}}\n",
       "                }\n",
       "        });\n",
       "</script>\n"
      ],
      "text/plain": [
       "<IPython.core.display.HTML object>"
      ]
     },
     "execution_count": 3,
     "metadata": {},
     "output_type": "execute_result"
    }
   ],
   "source": [
    "from IPython.core.display import HTML\n",
    "css_file = \"./presentation_notebook_style.css\"\n",
    "HTML(open(css_file, 'r').read())"
   ]
  },
  {
   "cell_type": "code",
   "execution_count": 2,
   "metadata": {
    "collapsed": true
   },
   "outputs": [],
   "source": [
    "import numpy\n",
    "from numpy.random import rand\n",
    "import matplotlib.pyplot as plt\n",
    "%matplotlib inline\n",
    "plt.rcParams.update({'font.size': 18})\n",
    "from scipy.integrate import quad\n",
    "import unittest"
   ]
  },
  {
   "cell_type": "markdown",
   "metadata": {
    "slideshow": {
     "slide_type": "slide"
    }
   },
   "source": [
    "# 02 Testing Scientific Codes"
   ]
  },
  {
   "cell_type": "markdown",
   "metadata": {
    "slideshow": {
     "slide_type": "slide"
    }
   },
   "source": [
    "# Why do we test?\n",
    "- In the experimental Sciences, new theories are developed by applying the Scientific method\n",
    "- Perform tests to demonstrate results are ***accurate, reproducible*** and ***reliable***\n",
    "- Test experimental setup show it's working as designed and to eliminate or quantify any systematic errors\n",
    "- A result will not be trusted unless experiment itself has been carried out to a suitable standard"
   ]
  },
  {
   "cell_type": "markdown",
   "metadata": {
    "slideshow": {
     "slide_type": "subslide"
    }
   },
   "source": [
    "# Why do we test?\n",
    "- In computational Science, we should apply the same principles to our code\n",
    "- A result should only be trusted if the code that has produced it has undergone rigorous testing which demonstrates:\n",
    "    * it is working as intended \n",
    "    * any limitations of the code (e.g. numerical errors) are understood and quantified"
   ]
  },
  {
   "cell_type": "markdown",
   "metadata": {
    "slideshow": {
     "slide_type": "subslide"
    }
   },
   "source": [
    "# Testing scientific code is hard\n",
    "- Often investigate systems where *exact behaviour unknown*\n",
    "- Can be very *complex*, built over a number of years (or even decades!) with contributions from a vast number of people\n",
    "- Even for the most complicated of codes there are a number of different tests we can apply to build ***robust, reliable code*** whose results can be ***trusted***. "
   ]
  },
  {
   "cell_type": "markdown",
   "metadata": {
    "slideshow": {
     "slide_type": "subslide"
    }
   },
   "source": [
    "<center>![Good code](https://imgs.xkcd.com/comics/good_code.png )\n",
    "[xkcd](https://xkcd.com/844/)</center>"
   ]
  },
  {
   "cell_type": "markdown",
   "metadata": {
    "slideshow": {
     "slide_type": "slide"
    }
   },
   "source": [
    "# When should I test?\n",
    "<br />\n",
    "## Always and often\n",
    "\n",
    "- The earlier you start testing the better:\n",
    "    * catch bugs as they develop and before they become too entrenched in the code. \n",
    "- Try and execute tests every time changes are made\n",
    "- Continuous integration useful to make sure tests are run frequently "
   ]
  },
  {
   "cell_type": "markdown",
   "metadata": {
    "slideshow": {
     "slide_type": "subslide"
    }
   },
   "source": [
    "# When should I test?\n",
    "- Important to ***review your tests regularly***\n",
    "- In actively developed code, tests must be amended and new tests written so new features are also tested\n",
    "- Regression tests useful to test changes to the code improve its performance rather than making it worse\n",
    "- Code coverage makes sure ***all*** code is being tested\n",
    "    * If only 20% of the code has been tested, cannot trust other 80% of the code is producing reliable results "
   ]
  },
  {
   "cell_type": "markdown",
   "metadata": {
    "slideshow": {
     "slide_type": "slide"
    }
   },
   "source": [
    "# Effective testing\n",
    "\n",
    "- Necessary to make sure entire parameter space is tested, not just one or two nice cases\n",
    "- Particularly important: *edge* and *corner* cases\n",
    "    * Edge cases: at beginning and end of input parameter space\n",
    "    * Corner cases: one or more edge cases are combined\n",
    "- Errors frequently arise here - often special code is required to deal with boundary values"
   ]
  },
  {
   "cell_type": "markdown",
   "metadata": {
    "slideshow": {
     "slide_type": "notes"
    }
   },
   "source": [
    "In the code below, we demonstrate the importance of testing edge cases. The code takes a vector $\\mathbf{v}$ and normalises it $\\hat{\\mathbf{v}} = \\frac{\\mathbf{v} }{ |\\mathbf{v}|}$. We see that if the code is run for the vector $(0,0)$, a `RuntimeWarning` is raised as the function is attempting to divide by zero. "
   ]
  },
  {
   "cell_type": "code",
   "execution_count": 10,
   "metadata": {
    "slideshow": {
     "slide_type": "subslide"
    }
   },
   "outputs": [
    {
     "name": "stderr",
     "output_type": "stream",
     "text": [
      "/home/alice/anaconda3/lib/python3.6/site-packages/ipykernel_launcher.py:4: RuntimeWarning: invalid value encountered in true_divide\n",
      "  after removing the cwd from sys.path.\n"
     ]
    },
    {
     "data": {
      "text/plain": [
       "array([ nan,  nan])"
      ]
     },
     "execution_count": 10,
     "metadata": {},
     "output_type": "execute_result"
    }
   ],
   "source": [
    "def normalise(v):\n",
    "    norm = numpy.sqrt(numpy.sum(v**2))\n",
    "    \n",
    "    return v / norm\n",
    "\n",
    "normalise(numpy.array([0,0]))"
   ]
  },
  {
   "cell_type": "markdown",
   "metadata": {
    "slideshow": {
     "slide_type": "notes"
    }
   },
   "source": [
    "We therefore need to amend our function for the case where the norm of the vector is zero. A possible solution is the function below."
   ]
  },
  {
   "cell_type": "code",
   "execution_count": 11,
   "metadata": {
    "slideshow": {
     "slide_type": "subslide"
    }
   },
   "outputs": [
    {
     "data": {
      "text/plain": [
       "array([0, 0])"
      ]
     },
     "execution_count": 11,
     "metadata": {},
     "output_type": "execute_result"
    }
   ],
   "source": [
    "def improved_normalise(v):\n",
    "    norm = numpy.sqrt(numpy.sum(v**2))\n",
    "    \n",
    "    if norm == 0.:\n",
    "        return v\n",
    "    \n",
    "    return v / norm\n",
    "\n",
    "improved_normalise(numpy.array([0,0]))"
   ]
  },
  {
   "cell_type": "markdown",
   "metadata": {
    "slideshow": {
     "slide_type": "skip"
    }
   },
   "source": [
    "Our improved function now tests to see if the norm is zero - if so, it returns the original vector rather than attempting to divide by zero. "
   ]
  },
  {
   "cell_type": "markdown",
   "metadata": {
    "slideshow": {
     "slide_type": "subslide"
    }
   },
   "source": [
    "# Tests should break your code\n",
    "- Also important to check code breaks as expected\n",
    "- If code input is garbage but still manages to run as normal, that is not good behaviour and suggests some validation of inputs is needed\n",
    "- Highlights where runtime testing and exceptions are needed in code"
   ]
  },
  {
   "cell_type": "code",
   "execution_count": 12,
   "metadata": {
    "slideshow": {
     "slide_type": "subslide"
    }
   },
   "outputs": [
    {
     "ename": "TypeError",
     "evalue": "unsupported operand type(s) for ** or pow(): 'str' and 'int'",
     "output_type": "error",
     "traceback": [
      "\u001b[0;31m---------------------------------------------------------------------------\u001b[0m",
      "\u001b[0;31mTypeError\u001b[0m                                 Traceback (most recent call last)",
      "\u001b[0;32m<ipython-input-12-0e3812f99b65>\u001b[0m in \u001b[0;36m<module>\u001b[0;34m()\u001b[0m\n\u001b[0;32m----> 1\u001b[0;31m \u001b[0mimproved_normalise\u001b[0m\u001b[0;34m(\u001b[0m\u001b[0;34m\"I am a string\"\u001b[0m\u001b[0;34m)\u001b[0m\u001b[0;34m\u001b[0m\u001b[0m\n\u001b[0m",
      "\u001b[0;32m<ipython-input-11-61bdd4db620d>\u001b[0m in \u001b[0;36mimproved_normalise\u001b[0;34m(v)\u001b[0m\n\u001b[1;32m      1\u001b[0m \u001b[0;32mdef\u001b[0m \u001b[0mimproved_normalise\u001b[0m\u001b[0;34m(\u001b[0m\u001b[0mv\u001b[0m\u001b[0;34m)\u001b[0m\u001b[0;34m:\u001b[0m\u001b[0;34m\u001b[0m\u001b[0m\n\u001b[0;32m----> 2\u001b[0;31m     \u001b[0mnorm\u001b[0m \u001b[0;34m=\u001b[0m \u001b[0mnumpy\u001b[0m\u001b[0;34m.\u001b[0m\u001b[0msqrt\u001b[0m\u001b[0;34m(\u001b[0m\u001b[0mnumpy\u001b[0m\u001b[0;34m.\u001b[0m\u001b[0msum\u001b[0m\u001b[0;34m(\u001b[0m\u001b[0mv\u001b[0m\u001b[0;34m**\u001b[0m\u001b[0;36m2\u001b[0m\u001b[0;34m)\u001b[0m\u001b[0;34m)\u001b[0m\u001b[0;34m\u001b[0m\u001b[0m\n\u001b[0m\u001b[1;32m      3\u001b[0m \u001b[0;34m\u001b[0m\u001b[0m\n\u001b[1;32m      4\u001b[0m     \u001b[0;32mif\u001b[0m \u001b[0mnorm\u001b[0m \u001b[0;34m==\u001b[0m \u001b[0;36m0.\u001b[0m\u001b[0;34m:\u001b[0m\u001b[0;34m\u001b[0m\u001b[0m\n\u001b[1;32m      5\u001b[0m         \u001b[0;32mreturn\u001b[0m \u001b[0mv\u001b[0m\u001b[0;34m\u001b[0m\u001b[0m\n",
      "\u001b[0;31mTypeError\u001b[0m: unsupported operand type(s) for ** or pow(): 'str' and 'int'"
     ]
    }
   ],
   "source": [
    "improved_normalise(\"I am a string\")"
   ]
  },
  {
   "cell_type": "markdown",
   "metadata": {
    "slideshow": {
     "slide_type": "skip"
    }
   },
   "source": [
    "Python correctly spots that it cannot perform the power operation on a string and raises a `TypeError` exception. However, it would probably be more useful to implement some kind of type checking of the function inputs before this (e.g. using `numpy.isnumeric`), and/or make sure that the code that calls this function is capable of catching such exceptions."
   ]
  },
  {
   "cell_type": "markdown",
   "metadata": {
    "slideshow": {
     "slide_type": "subslide"
    }
   },
   "source": [
    "# Unit tests\n",
    "\n",
    "- For complicated codes made up of many functions, useful to write tests that check small parts - *units* - at a time\n",
    "- Easier to track down exact location of bugs\n",
    "- Units may be individual functions or groups of shorter functions\n",
    "- Encourage good coding practice as require code to be modular"
   ]
  },
  {
   "cell_type": "markdown",
   "metadata": {
    "slideshow": {
     "slide_type": "skip"
    }
   },
   "source": [
    "In the example below, we have three (very simple) functions: `squared` which returns the square of its input, `add_2` which adds 2 to its input and `square_plus_2` which calls the two previous functions to return $x^2+2$. To test this code, we could therefore write unit tests for the first two functions to check they are working correctly. We've used the `unittest` module here as it allows us to test that functions correctly raise exceptions when given invalid data."
   ]
  },
  {
   "cell_type": "code",
   "execution_count": 13,
   "metadata": {
    "collapsed": true,
    "slideshow": {
     "slide_type": "subslide"
    }
   },
   "outputs": [],
   "source": [
    "def squared(x):\n",
    "    return x*x\n",
    "\n",
    "def add_2(x):\n",
    "    return x + 2\n",
    "\n",
    "def square_plus_2(x):\n",
    "    return add_2(squared(x))\n",
    "\n",
    "class test_units(unittest.TestCase):\n",
    "    \n",
    "    def test_squared(self):\n",
    "        self.assertTrue(squared(-5) == 25)\n",
    "        self.assertTrue(squared(1e5) == 1e10)\n",
    "        self.assertRaises(TypeError, squared, \"A string\")\n",
    "        \n",
    "    def test_add_2(self):\n",
    "        self.assertTrue(add_2(-5) == -3)\n",
    "        self.assertTrue(add_2(1e5) == 100002)\n",
    "        self.assertRaises(TypeError, add_2, \"A string\")\n",
    "    \n",
    "test_units().test_squared()\n",
    "test_units().test_add_2()"
   ]
  },
  {
   "cell_type": "markdown",
   "metadata": {
    "slideshow": {
     "slide_type": "subslide"
    }
   },
   "source": [
    "# Integration tests\n",
    "\n",
    "- Need to verify smaller units work together.\n",
    "- Individual functions may work, but this is no guarantee that they will work when put together\n",
    "- Can encompass a small section of code, e.g. to check that one function correctly calls another, all the way up to the entire code\n",
    "- Integration tests can be difficult to design - can involve many different functions, so often a lot more complex than unit tests"
   ]
  },
  {
   "cell_type": "markdown",
   "metadata": {
    "slideshow": {
     "slide_type": "skip"
    }
   },
   "source": [
    "In the above example, we can add an integration test by writing a test for `square_plus_2` - this calls the other two functions, so we'll test that it does this properly."
   ]
  },
  {
   "cell_type": "code",
   "execution_count": 20,
   "metadata": {
    "collapsed": true,
    "slideshow": {
     "slide_type": "subslide"
    }
   },
   "outputs": [],
   "source": [
    "class test_integration(unittest.TestCase):\n",
    "    \n",
    "    def test_square_plus_2(self):\n",
    "        self.assertTrue(square_plus_2(-5) == 27)\n",
    "        self.assertTrue(square_plus_2(1e5) == 10000000002)\n",
    "        self.assertRaises(TypeError, square_plus_2, \"A string\")\n",
    "        \n",
    "test_integration().test_square_plus_2()"
   ]
  },
  {
   "cell_type": "markdown",
   "metadata": {
    "slideshow": {
     "slide_type": "subslide"
    }
   },
   "source": [
    "# Convergence tests\n",
    "\n",
    "- Often calculate solution on some grid - a discretised approximation of exact continuous solution\n",
    "- As grid resolution increases, solution should approach exact solution\n",
    "- *Convergence tests* check this\n",
    "- Calculate solution at various resolutions, calculate error\n",
    "- Error should decrease with increasing resolution at algorithm's order of convergence"
   ]
  },
  {
   "cell_type": "markdown",
   "metadata": {
    "slideshow": {
     "slide_type": "skip"
    }
   },
   "source": [
    "In the example below, we will demonstrate this by using the trapezium rule to approximate the integral of $\\sin (x)$ with various different step sizes, $h$. By comparing the calculated errors to a line of gradient $h^2$, it can be seen that the numerical approximation is converging as expected at $O(h^2)$."
   ]
  },
  {
   "cell_type": "code",
   "execution_count": 15,
   "metadata": {
    "slideshow": {
     "slide_type": "subslide"
    }
   },
   "outputs": [
    {
     "data": {
      "image/png": "[encoded data removed]",
      "text/plain": [
       "<matplotlib.figure.Figure at 0x7f4a429ebdd8>"
      ]
     },
     "metadata": {},
     "output_type": "display_data"
    }
   ],
   "source": [
    "hs = numpy.array([1. / (4. * 2.**n) for n in range(8)])\n",
    "errors = numpy.zeros_like(hs)\n",
    "\n",
    "for i, h in enumerate(hs):\n",
    "    xs = numpy.arange(0., 1.+h, h)\n",
    "    ys = numpy.sin(xs)\n",
    "    \n",
    "    # use trapezium rule to approximate integral\n",
    "    integral_approx = sum((xs[1:] - xs[:-1]) * 0.5 * (ys[1:] + ys[:-1]))\n",
    "    errors[i] = -numpy.cos(1) + numpy.cos(0) - integral_approx\n",
    "    \n",
    "plt.loglog(hs, errors, 'x', label='Error')\n",
    "plt.plot(hs, 0.1*hs**2, label=r'$h^2$')\n",
    "plt.xlabel(r'$h$'); plt.ylabel('error'); plt.legend(loc='center left', bbox_to_anchor=[1.0, 0.5]); plt.show()"
   ]
  },
  {
   "cell_type": "markdown",
   "metadata": {
    "slideshow": {
     "slide_type": "subslide"
    }
   },
   "source": [
    "# Regression tests\n",
    "\n",
    "- When building your code, generally aim for its performance to improve with time\n",
    "- Results should get more accurate (or at least not deteriorate)\n",
    "- Solution: *regression tests* \n",
    "- Run multiple versions of code, compare outputs\n",
    "- If output has changed, test fails\n",
    "- Helps catch bugs other types of tests may not, ensure project remains backwards-compatible"
   ]
  },
  {
   "cell_type": "markdown",
   "metadata": {
    "slideshow": {
     "slide_type": "slide"
    }
   },
   "source": [
    "# Common problems and how to solve them"
   ]
  },
  {
   "cell_type": "markdown",
   "metadata": {
    "slideshow": {
     "slide_type": "subslide"
    }
   },
   "source": [
    "# My code has some randomness\n",
    "- Time evolution problems: output at individual timestep may be random, but behaviour averaged over several timesteps is known - test this!\n",
    "- Other problems: test average behaviour across entire domain or sections of domain\n",
    "- Even if completely random so not possible to take meaninful averages, outputs should still be within set of known values - test this!\n",
    "- Write tests that isolate random parts so can check non-random parts work\n",
    "- If using a random number generator, eliminate non-determinism by testing using a fixed seed value"
   ]
  },
  {
   "cell_type": "markdown",
   "metadata": {
    "slideshow": {
     "slide_type": "skip"
    }
   },
   "source": [
    "In the code below, we generate an array of random data and apply some function to it before plotting the results. It can be seen that the output is different every time the code is run."
   ]
  },
  {
   "cell_type": "code",
   "execution_count": 16,
   "metadata": {
    "slideshow": {
     "slide_type": "subslide"
    }
   },
   "outputs": [
    {
     "data": {
      "image/png": "[encoded data removed]",
      "text/plain": [
       "<matplotlib.figure.Figure at 0x7f4a12cdeef0>"
      ]
     },
     "metadata": {},
     "output_type": "display_data"
    }
   ],
   "source": [
    "data = rand(50,50)\n",
    "\n",
    "def func(a):\n",
    "    return a**2 * numpy.sin(a)\n",
    "\n",
    "output = func(data)\n",
    "\n",
    "plt.imshow(output)\n",
    "plt.colorbar()\n",
    "plt.show()"
   ]
  },
  {
   "cell_type": "markdown",
   "metadata": {
    "slideshow": {
     "slide_type": "skip"
    }
   },
   "source": [
    "The output of this code changes every time the code is run, however we can still write some tests for it. We know that all values in the output array must be $0\\leq x \\leq 1$. In some circumstances, such as in this case, we may know the statistical distribution of the random data. We can therefore calculate what the average output value should be and compare this to our code's output. In our case, the data is generated from a uniform distribution of numbers between 0 and 1, so the average value of the output is given by $\\int_0^1 f(x) dx \\simeq 0.22$"
   ]
  },
  {
   "cell_type": "code",
   "execution_count": 17,
   "metadata": {
    "slideshow": {
     "slide_type": "subslide"
    }
   },
   "outputs": [
    {
     "name": "stdout",
     "output_type": "stream",
     "text": [
      "Function output within correct limits\n",
      "Function output has correct average\n"
     ]
    }
   ],
   "source": [
    "def test_limits(a):\n",
    "    if numpy.all(a >= 0.) and numpy.all(a <= 1.):\n",
    "        return True\n",
    "    return False\n",
    "\n",
    "def test_average(a):\n",
    "    if numpy.isclose(numpy.average(a), 0.22, rtol=5.e-2):\n",
    "        return True\n",
    "    return False\n",
    "\n",
    "if test_limits(output):\n",
    "    print('Function output within correct limits')\n",
    "else:\n",
    "    print('Function output is not within correct limits')\n",
    "\n",
    "if test_average(output):\n",
    "    print('Function output has correct average')\n",
    "else:\n",
    "    print('Function output does not have correct average')"
   ]
  },
  {
   "cell_type": "markdown",
   "metadata": {
    "slideshow": {
     "slide_type": "subslide"
    }
   },
   "source": [
    "# I don't know the correct solution\n",
    "\n",
    "- In experimental science, test experimental setup using a *control*\n",
    "    * Use input data where outcome is known so any bugs in apparatus or systematic errors can be identified and understood\n",
    "- In computational science, there's usually a simple system whose behaviour is known\n",
    "    * Time evolution problems: system which is initially static should remain that way\n",
    "- If this is not the case, there is something seriously wrong with the code! \n",
    "- In physics, can check for symmetries (e.g. translation, reflection, time reversal), conserved quantities (e.g. mass, energy, charge)"
   ]
  },
  {
   "cell_type": "markdown",
   "metadata": {
    "slideshow": {
     "slide_type": "skip"
    }
   },
   "source": [
    "In the below example, we look at a black box function - `scipy.integrate.quad`. Here, this function will stand in for a bit of code that we have written and want to test. Say we wish to use `quad` to calculate the integral of some complicated function and we have little idea what the solution will be. Before we use it on the complicated function, we will test that it behaves correctly for a function whose integral we already know: $f(x) = \\sin(x)$."
   ]
  },
  {
   "cell_type": "code",
   "execution_count": 18,
   "metadata": {
    "slideshow": {
     "slide_type": "subslide"
    }
   },
   "outputs": [
    {
     "data": {
      "image/png": "[encoded data removed]",
      "text/plain": [
       "<matplotlib.figure.Figure at 0x7f4a12b076d8>"
      ]
     },
     "metadata": {},
     "output_type": "display_data"
    }
   ],
   "source": [
    "xs = numpy.linspace(0.0, 2.0 * numpy.pi)\n",
    "\n",
    "integrals = numpy.zeros_like(xs) \n",
    "\n",
    "for i in range(len(xs)):\n",
    "    integrals[i] = quad(numpy.sin, 0.0, xs[i])[0]\n",
    "\n",
    "plt.plot(xs, -numpy.cos(xs)+1, '-', label=r'$\\int f(x)$')\n",
    "plt.plot(xs, integrals, 'x', label='quad')\n",
    "plt.legend(loc='center left', bbox_to_anchor=[1.0, 0.5])\n",
    "plt.show()"
   ]
  },
  {
   "cell_type": "markdown",
   "metadata": {
    "slideshow": {
     "slide_type": "subslide"
    }
   },
   "source": [
    "As hoped, quad gives the correct solution: \n",
    "\n",
    "$$\n",
    "\\int^\\alpha_0 \\sin(x)\\, dx = -\\cos(\\alpha) + 1\n",
    "$$"
   ]
  },
  {
   "cell_type": "markdown",
   "metadata": {
    "slideshow": {
     "slide_type": "subslide"
    }
   },
   "source": [
    "# I didn't write most of the code - how do I know that the bit I wrote works?\n",
    "\n",
    "- Unit tests! \n",
    "- Test original code in isolation\n",
    "- Any failures in subsequent tests that then incorporate your code will therefore only be the result of bugs in your code"
   ]
  },
  {
   "cell_type": "markdown",
   "metadata": {
    "slideshow": {
     "slide_type": "subslide"
    }
   },
   "source": [
    "# I know there is some numerical error in my code - how can I test my code is correct up to this error?\n",
    "\n",
    "- In numerical calculations, there will always be some computational error that cannot be avoided\n",
    "    * floating point representation of numerical data \n",
    "    * accuracy  of algorithm\n",
    "- Rarely require result to be 100% precise, but instead correct up to some tolerance\n",
    "- Build tests to reflect this. "
   ]
  },
  {
   "cell_type": "markdown",
   "metadata": {
    "slideshow": {
     "slide_type": "skip"
    }
   },
   "source": [
    "In python, we can use `numpy.isclose` and `numpy.allclose` to do this. In the example below, we take some data and add a small amount of random noise to it. This random noise is supposed to represent numerical errors that are introduced over the course of a simulation. If we test that the output array is equal to the original array, python correctly tells us that it is not. However, if we test that the output array is close to the original array, we find that this is true."
   ]
  },
  {
   "cell_type": "code",
   "execution_count": 19,
   "metadata": {
    "slideshow": {
     "slide_type": "subslide"
    }
   },
   "outputs": [
    {
     "name": "stdout",
     "output_type": "stream",
     "text": [
      "Noisey data is not exactly equal to initial data\n",
      "Noisey data is close to initial data\n"
     ]
    },
    {
     "data": {
      "image/png": "[encoded data removed]",
      "text/plain": [
       "<matplotlib.figure.Figure at 0x7f4a12a15320>"
      ]
     },
     "metadata": {},
     "output_type": "display_data"
    }
   ],
   "source": [
    "x = numpy.linspace(0, 2*numpy.pi, num=500); initial_data = x**2 * numpy.cos(5*x)\n",
    "noisey_data = initial_data + (rand(len(x)) - 0.5) * 4 # add noise \n",
    "\n",
    "plt.plot(x, initial_data, label='initial data'); plt.plot(x, noisey_data, label='noisey data')\n",
    "plt.legend(loc='center left', bbox_to_anchor=[1.0, 0.5]); plt.xlim(x[0], x[-1])\n",
    "\n",
    "if numpy.array_equal(initial_data, noisey_data):\n",
    "    print('Noisey data exactly equal to initial data')\n",
    "else:\n",
    "    print('Noisey data is not exactly equal to initial data')    \n",
    "if numpy.allclose(initial_data, noisey_data, atol=2):\n",
    "    print('Noisey data is close to initial data')\n",
    "else:\n",
    "    print('Noisey data is not close to initial data')\n",
    "plt.show()"
   ]
  },
  {
   "cell_type": "code",
   "execution_count": null,
   "metadata": {
    "collapsed": true
   },
   "outputs": [],
   "source": []
  }
 ],
 "metadata": {
  "anaconda-cloud": {},
  "celltoolbar": "Slideshow",
  "kernelspec": {
   "display_name": "Python 3",
   "language": "python",
   "name": "python3"
  },
  "language_info": {
   "codemirror_mode": {
    "name": "ipython",
    "version": 3
   },
   "file_extension": ".py",
   "mimetype": "text/x-python",
   "name": "python",
   "nbconvert_exporter": "python",
   "pygments_lexer": "ipython3",
   "version": "3.6.1"
  },
  "livereveal": {
   "start_slideshow_at": "selected"
  }
 },
 "nbformat": 4,
 "nbformat_minor": 1
}
